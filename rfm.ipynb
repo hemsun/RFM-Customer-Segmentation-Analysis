{
 "cells": [
  {
   "cell_type": "code",
   "execution_count": 3,
   "metadata": {
    "id": "hZ1RqqpjGDYf",
    "tags": []
   },
   "outputs": [],
   "source": [
    "# Import the libraries that will be used for this project\n",
    "import pandas as pd\n",
    "import matplotlib.pyplot as plt\n",
    "import seaborn as sns\n",
    "import numpy as np\n",
    "from sklearn.preprocessing import OneHotEncoder\n",
    "\n",
    "# Import the libraries that will be used for this project\n",
    "import pandas as pd\n",
    "import matplotlib.pyplot as plt\n",
    "import seaborn as sns\n",
    "import numpy as np\n",
    "from sklearn.preprocessing import OneHotEncoder,StandardScaler"
   ]
  },
  {
   "cell_type": "code",
   "execution_count": 4,
   "metadata": {
    "colab": {
     "base_uri": "https://localhost:8080/"
    },
    "id": "FYxu-LX1GKUB",
    "outputId": "1db4b4ee-8abc-4a87-eddb-e5a2baf26609",
    "tags": []
   },
   "outputs": [],
   "source": [
    "\n",
    "df = pd.read_csv(r\"C:\\Users\\hemal\\OneDrive - Tesign Inc\\Hema\\Data science\\Portfolio\\RFM_Analysis\\RFM-Customer-Segmentation-Analysis\\OnlineRetail.csv\", \n",
    "                 encoding= 'unicode_escape')"
   ]
  },
  {
   "cell_type": "code",
   "execution_count": 3,
   "metadata": {
    "tags": []
   },
   "outputs": [
    {
     "name": "stdout",
     "output_type": "stream",
     "text": [
      "<class 'pandas.core.frame.DataFrame'>\n",
      "RangeIndex: 541909 entries, 0 to 541908\n",
      "Data columns (total 8 columns):\n",
      " #   Column       Non-Null Count   Dtype  \n",
      "---  ------       --------------   -----  \n",
      " 0   InvoiceNo    541909 non-null  object \n",
      " 1   StockCode    541909 non-null  object \n",
      " 2   Description  540455 non-null  object \n",
      " 3   Quantity     541909 non-null  int64  \n",
      " 4   InvoiceDate  541909 non-null  object \n",
      " 5   UnitPrice    541909 non-null  float64\n",
      " 6   CustomerID   406829 non-null  float64\n",
      " 7   Country      541909 non-null  object \n",
      "dtypes: float64(2), int64(1), object(5)\n",
      "memory usage: 33.1+ MB\n"
     ]
    }
   ],
   "source": [
    "df.info()"
   ]
  },
  {
   "cell_type": "code",
   "execution_count": 4,
   "metadata": {
    "colab": {
     "base_uri": "https://localhost:8080/",
     "height": 112
    },
    "id": "XKFZWhvbXs8P",
    "outputId": "0f460c72-3ca4-4ecc-a0cd-7316af5e95c2",
    "tags": []
   },
   "outputs": [
    {
     "data": {
      "text/html": [
       "<div>\n",
       "<style scoped>\n",
       "    .dataframe tbody tr th:only-of-type {\n",
       "        vertical-align: middle;\n",
       "    }\n",
       "\n",
       "    .dataframe tbody tr th {\n",
       "        vertical-align: top;\n",
       "    }\n",
       "\n",
       "    .dataframe thead th {\n",
       "        text-align: right;\n",
       "    }\n",
       "</style>\n",
       "<table border=\"1\" class=\"dataframe\">\n",
       "  <thead>\n",
       "    <tr style=\"text-align: right;\">\n",
       "      <th></th>\n",
       "      <th>InvoiceNo</th>\n",
       "      <th>StockCode</th>\n",
       "      <th>Description</th>\n",
       "      <th>Quantity</th>\n",
       "      <th>InvoiceDate</th>\n",
       "      <th>UnitPrice</th>\n",
       "      <th>CustomerID</th>\n",
       "      <th>Country</th>\n",
       "    </tr>\n",
       "  </thead>\n",
       "  <tbody>\n",
       "    <tr>\n",
       "      <th>0</th>\n",
       "      <td>536365</td>\n",
       "      <td>85123A</td>\n",
       "      <td>WHITE HANGING HEART T-LIGHT HOLDER</td>\n",
       "      <td>6</td>\n",
       "      <td>12/1/2010 8:26</td>\n",
       "      <td>2.55</td>\n",
       "      <td>17850.0</td>\n",
       "      <td>United Kingdom</td>\n",
       "    </tr>\n",
       "    <tr>\n",
       "      <th>1</th>\n",
       "      <td>536365</td>\n",
       "      <td>71053</td>\n",
       "      <td>WHITE METAL LANTERN</td>\n",
       "      <td>6</td>\n",
       "      <td>12/1/2010 8:26</td>\n",
       "      <td>3.39</td>\n",
       "      <td>17850.0</td>\n",
       "      <td>United Kingdom</td>\n",
       "    </tr>\n",
       "    <tr>\n",
       "      <th>2</th>\n",
       "      <td>536365</td>\n",
       "      <td>84406B</td>\n",
       "      <td>CREAM CUPID HEARTS COAT HANGER</td>\n",
       "      <td>8</td>\n",
       "      <td>12/1/2010 8:26</td>\n",
       "      <td>2.75</td>\n",
       "      <td>17850.0</td>\n",
       "      <td>United Kingdom</td>\n",
       "    </tr>\n",
       "    <tr>\n",
       "      <th>3</th>\n",
       "      <td>536365</td>\n",
       "      <td>84029G</td>\n",
       "      <td>KNITTED UNION FLAG HOT WATER BOTTLE</td>\n",
       "      <td>6</td>\n",
       "      <td>12/1/2010 8:26</td>\n",
       "      <td>3.39</td>\n",
       "      <td>17850.0</td>\n",
       "      <td>United Kingdom</td>\n",
       "    </tr>\n",
       "    <tr>\n",
       "      <th>4</th>\n",
       "      <td>536365</td>\n",
       "      <td>84029E</td>\n",
       "      <td>RED WOOLLY HOTTIE WHITE HEART.</td>\n",
       "      <td>6</td>\n",
       "      <td>12/1/2010 8:26</td>\n",
       "      <td>3.39</td>\n",
       "      <td>17850.0</td>\n",
       "      <td>United Kingdom</td>\n",
       "    </tr>\n",
       "    <tr>\n",
       "      <th>5</th>\n",
       "      <td>536365</td>\n",
       "      <td>22752</td>\n",
       "      <td>SET 7 BABUSHKA NESTING BOXES</td>\n",
       "      <td>2</td>\n",
       "      <td>12/1/2010 8:26</td>\n",
       "      <td>7.65</td>\n",
       "      <td>17850.0</td>\n",
       "      <td>United Kingdom</td>\n",
       "    </tr>\n",
       "    <tr>\n",
       "      <th>6</th>\n",
       "      <td>536365</td>\n",
       "      <td>21730</td>\n",
       "      <td>GLASS STAR FROSTED T-LIGHT HOLDER</td>\n",
       "      <td>6</td>\n",
       "      <td>12/1/2010 8:26</td>\n",
       "      <td>4.25</td>\n",
       "      <td>17850.0</td>\n",
       "      <td>United Kingdom</td>\n",
       "    </tr>\n",
       "    <tr>\n",
       "      <th>7</th>\n",
       "      <td>536366</td>\n",
       "      <td>22633</td>\n",
       "      <td>HAND WARMER UNION JACK</td>\n",
       "      <td>6</td>\n",
       "      <td>12/1/2010 8:28</td>\n",
       "      <td>1.85</td>\n",
       "      <td>17850.0</td>\n",
       "      <td>United Kingdom</td>\n",
       "    </tr>\n",
       "    <tr>\n",
       "      <th>8</th>\n",
       "      <td>536366</td>\n",
       "      <td>22632</td>\n",
       "      <td>HAND WARMER RED POLKA DOT</td>\n",
       "      <td>6</td>\n",
       "      <td>12/1/2010 8:28</td>\n",
       "      <td>1.85</td>\n",
       "      <td>17850.0</td>\n",
       "      <td>United Kingdom</td>\n",
       "    </tr>\n",
       "    <tr>\n",
       "      <th>9</th>\n",
       "      <td>536367</td>\n",
       "      <td>84879</td>\n",
       "      <td>ASSORTED COLOUR BIRD ORNAMENT</td>\n",
       "      <td>32</td>\n",
       "      <td>12/1/2010 8:34</td>\n",
       "      <td>1.69</td>\n",
       "      <td>13047.0</td>\n",
       "      <td>United Kingdom</td>\n",
       "    </tr>\n",
       "  </tbody>\n",
       "</table>\n",
       "</div>"
      ],
      "text/plain": [
       "  InvoiceNo StockCode                          Description  Quantity  \\\n",
       "0    536365    85123A   WHITE HANGING HEART T-LIGHT HOLDER         6   \n",
       "1    536365     71053                  WHITE METAL LANTERN         6   \n",
       "2    536365    84406B       CREAM CUPID HEARTS COAT HANGER         8   \n",
       "3    536365    84029G  KNITTED UNION FLAG HOT WATER BOTTLE         6   \n",
       "4    536365    84029E       RED WOOLLY HOTTIE WHITE HEART.         6   \n",
       "5    536365     22752         SET 7 BABUSHKA NESTING BOXES         2   \n",
       "6    536365     21730    GLASS STAR FROSTED T-LIGHT HOLDER         6   \n",
       "7    536366     22633               HAND WARMER UNION JACK         6   \n",
       "8    536366     22632            HAND WARMER RED POLKA DOT         6   \n",
       "9    536367     84879        ASSORTED COLOUR BIRD ORNAMENT        32   \n",
       "\n",
       "      InvoiceDate  UnitPrice  CustomerID         Country  \n",
       "0  12/1/2010 8:26       2.55     17850.0  United Kingdom  \n",
       "1  12/1/2010 8:26       3.39     17850.0  United Kingdom  \n",
       "2  12/1/2010 8:26       2.75     17850.0  United Kingdom  \n",
       "3  12/1/2010 8:26       3.39     17850.0  United Kingdom  \n",
       "4  12/1/2010 8:26       3.39     17850.0  United Kingdom  \n",
       "5  12/1/2010 8:26       7.65     17850.0  United Kingdom  \n",
       "6  12/1/2010 8:26       4.25     17850.0  United Kingdom  \n",
       "7  12/1/2010 8:28       1.85     17850.0  United Kingdom  \n",
       "8  12/1/2010 8:28       1.85     17850.0  United Kingdom  \n",
       "9  12/1/2010 8:34       1.69     13047.0  United Kingdom  "
      ]
     },
     "execution_count": 4,
     "metadata": {},
     "output_type": "execute_result"
    }
   ],
   "source": [
    "df.head(10)"
   ]
  },
  {
   "cell_type": "markdown",
   "metadata": {},
   "source": [
    "# Data Preparation"
   ]
  },
  {
   "cell_type": "code",
   "execution_count": 5,
   "metadata": {
    "id": "WCh_ddO4GMen",
    "tags": []
   },
   "outputs": [
    {
     "name": "stdout",
     "output_type": "stream",
     "text": [
      "Data shape: (541909, 8)\n"
     ]
    },
    {
     "data": {
      "text/html": [
       "<div>\n",
       "<style scoped>\n",
       "    .dataframe tbody tr th:only-of-type {\n",
       "        vertical-align: middle;\n",
       "    }\n",
       "\n",
       "    .dataframe tbody tr th {\n",
       "        vertical-align: top;\n",
       "    }\n",
       "\n",
       "    .dataframe thead th {\n",
       "        text-align: right;\n",
       "    }\n",
       "</style>\n",
       "<table border=\"1\" class=\"dataframe\">\n",
       "  <thead>\n",
       "    <tr style=\"text-align: right;\">\n",
       "      <th></th>\n",
       "      <th>types</th>\n",
       "      <th>count</th>\n",
       "      <th>unique_count</th>\n",
       "      <th>null_count</th>\n",
       "    </tr>\n",
       "  </thead>\n",
       "  <tbody>\n",
       "    <tr>\n",
       "      <th>Country</th>\n",
       "      <td>object</td>\n",
       "      <td>541909</td>\n",
       "      <td>38</td>\n",
       "      <td>0</td>\n",
       "    </tr>\n",
       "    <tr>\n",
       "      <th>CustomerID</th>\n",
       "      <td>float64</td>\n",
       "      <td>406829</td>\n",
       "      <td>4373</td>\n",
       "      <td>135080</td>\n",
       "    </tr>\n",
       "    <tr>\n",
       "      <th>Description</th>\n",
       "      <td>object</td>\n",
       "      <td>540455</td>\n",
       "      <td>4224</td>\n",
       "      <td>1454</td>\n",
       "    </tr>\n",
       "    <tr>\n",
       "      <th>InvoiceDate</th>\n",
       "      <td>object</td>\n",
       "      <td>541909</td>\n",
       "      <td>23260</td>\n",
       "      <td>0</td>\n",
       "    </tr>\n",
       "    <tr>\n",
       "      <th>InvoiceNo</th>\n",
       "      <td>object</td>\n",
       "      <td>541909</td>\n",
       "      <td>25900</td>\n",
       "      <td>0</td>\n",
       "    </tr>\n",
       "    <tr>\n",
       "      <th>Quantity</th>\n",
       "      <td>int64</td>\n",
       "      <td>541909</td>\n",
       "      <td>722</td>\n",
       "      <td>0</td>\n",
       "    </tr>\n",
       "    <tr>\n",
       "      <th>StockCode</th>\n",
       "      <td>object</td>\n",
       "      <td>541909</td>\n",
       "      <td>4070</td>\n",
       "      <td>0</td>\n",
       "    </tr>\n",
       "    <tr>\n",
       "      <th>UnitPrice</th>\n",
       "      <td>float64</td>\n",
       "      <td>541909</td>\n",
       "      <td>1630</td>\n",
       "      <td>0</td>\n",
       "    </tr>\n",
       "  </tbody>\n",
       "</table>\n",
       "</div>"
      ],
      "text/plain": [
       "               types   count  unique_count  null_count\n",
       "Country       object  541909            38           0\n",
       "CustomerID   float64  406829          4373      135080\n",
       "Description   object  540455          4224        1454\n",
       "InvoiceDate   object  541909         23260           0\n",
       "InvoiceNo     object  541909         25900           0\n",
       "Quantity       int64  541909           722           0\n",
       "StockCode     object  541909          4070           0\n",
       "UnitPrice    float64  541909          1630           0"
      ]
     },
     "execution_count": 5,
     "metadata": {},
     "output_type": "execute_result"
    }
   ],
   "source": [
    "def summary (df):\n",
    "    types= df.dtypes\n",
    "    counts = df.apply(lambda x: x.count())\n",
    "    unique_value_count = df.apply(lambda x: x.unique().shape[0])\n",
    "    nulls = df.apply(lambda x: x.isnull().sum())\n",
    "    print (\"Data shape:\", df.shape)\n",
    "    \n",
    "    cols =['types','count','unique_count','null_count']\n",
    "    str = pd.concat([types,counts,unique_value_count, nulls], axis=1, sort = True)\n",
    "    str.columns = cols\n",
    "    return str\n",
    "\n",
    "details = summary(df)\n",
    "details"
   ]
  },
  {
   "cell_type": "code",
   "execution_count": 6,
   "metadata": {
    "tags": []
   },
   "outputs": [
    {
     "data": {
      "text/plain": [
       "United Kingdom          0.914320\n",
       "Germany                 0.017521\n",
       "France                  0.015790\n",
       "EIRE                    0.015124\n",
       "Spain                   0.004674\n",
       "Netherlands             0.004375\n",
       "Belgium                 0.003818\n",
       "Switzerland             0.003694\n",
       "Portugal                0.002803\n",
       "Australia               0.002323\n",
       "Norway                  0.002004\n",
       "Italy                   0.001482\n",
       "Channel Islands         0.001399\n",
       "Finland                 0.001283\n",
       "Cyprus                  0.001148\n",
       "Sweden                  0.000853\n",
       "Unspecified             0.000823\n",
       "Austria                 0.000740\n",
       "Denmark                 0.000718\n",
       "Japan                   0.000661\n",
       "Poland                  0.000629\n",
       "Israel                  0.000548\n",
       "USA                     0.000537\n",
       "Hong Kong               0.000531\n",
       "Singapore               0.000423\n",
       "Iceland                 0.000336\n",
       "Canada                  0.000279\n",
       "Greece                  0.000269\n",
       "Malta                   0.000234\n",
       "United Arab Emirates    0.000125\n",
       "European Community      0.000113\n",
       "RSA                     0.000107\n",
       "Lebanon                 0.000083\n",
       "Lithuania               0.000065\n",
       "Brazil                  0.000059\n",
       "Czech Republic          0.000055\n",
       "Bahrain                 0.000035\n",
       "Saudi Arabia            0.000018\n",
       "Name: Country, dtype: float64"
      ]
     },
     "execution_count": 6,
     "metadata": {},
     "output_type": "execute_result"
    }
   ],
   "source": [
    "df.Country.value_counts(normalize = True) "
   ]
  },
  {
   "cell_type": "code",
   "execution_count": 6,
   "metadata": {
    "tags": []
   },
   "outputs": [],
   "source": [
    "# Choosing Germany for analysis\n",
    "\n",
    "df= df[df.Country == 'Germany'] "
   ]
  },
  {
   "cell_type": "code",
   "execution_count": 7,
   "metadata": {
    "tags": []
   },
   "outputs": [
    {
     "data": {
      "text/plain": [
       "(9495, 8)"
      ]
     },
     "execution_count": 7,
     "metadata": {},
     "output_type": "execute_result"
    }
   ],
   "source": [
    "df.shape"
   ]
  },
  {
   "cell_type": "markdown",
   "metadata": {
    "tags": []
   },
   "source": [
    "Checking the number of unique customer id's out of the 9495 rows , this will help in the clustering process. If the customer\n",
    "ids are unique , each customer will be like a cluster and the clustering algorithm will not be able to find patterns \n",
    "significantly m"
   ]
  },
  {
   "cell_type": "code",
   "execution_count": 8,
   "metadata": {
    "tags": []
   },
   "outputs": [
    {
     "data": {
      "text/plain": [
       "95"
      ]
     },
     "execution_count": 8,
     "metadata": {},
     "output_type": "execute_result"
    }
   ],
   "source": [
    "# returns the number of unique customerid counts\n",
    "df['CustomerID'].nunique() "
   ]
  },
  {
   "cell_type": "code",
   "execution_count": 10,
   "metadata": {
    "tags": []
   },
   "outputs": [
    {
     "data": {
      "text/plain": [
       "InvoiceNo      0\n",
       "StockCode      0\n",
       "Description    0\n",
       "Quantity       0\n",
       "InvoiceDate    0\n",
       "UnitPrice      0\n",
       "CustomerID     0\n",
       "Country        0\n",
       "dtype: int64"
      ]
     },
     "execution_count": 10,
     "metadata": {},
     "output_type": "execute_result"
    }
   ],
   "source": [
    "# checking if there are any null values in the columns\n",
    "df.isnull().sum()\n",
    "\n",
    "# we can see that there are no null values "
   ]
  },
  {
   "cell_type": "code",
   "execution_count": 11,
   "metadata": {
    "tags": []
   },
   "outputs": [
    {
     "data": {
      "text/plain": [
       "False"
      ]
     },
     "execution_count": 11,
     "metadata": {},
     "output_type": "execute_result"
    }
   ],
   "source": [
    "# checking if there are any negative values in unitprice and quantity\n",
    "\n",
    "(df['UnitPrice'] < 0) .any()"
   ]
  },
  {
   "cell_type": "code",
   "execution_count": 12,
   "metadata": {
    "tags": []
   },
   "outputs": [
    {
     "data": {
      "text/plain": [
       "True"
      ]
     },
     "execution_count": 12,
     "metadata": {},
     "output_type": "execute_result"
    }
   ],
   "source": [
    "(df['Quantity'] < 0) .any()"
   ]
  },
  {
   "cell_type": "code",
   "execution_count": 13,
   "metadata": {
    "tags": []
   },
   "outputs": [
    {
     "data": {
      "text/plain": [
       "453"
      ]
     },
     "execution_count": 13,
     "metadata": {},
     "output_type": "execute_result"
    }
   ],
   "source": [
    "(df['Quantity'] < 0) .sum()"
   ]
  },
  {
   "cell_type": "code",
   "execution_count": 14,
   "metadata": {
    "tags": []
   },
   "outputs": [
    {
     "data": {
      "text/html": [
       "<div>\n",
       "<style scoped>\n",
       "    .dataframe tbody tr th:only-of-type {\n",
       "        vertical-align: middle;\n",
       "    }\n",
       "\n",
       "    .dataframe tbody tr th {\n",
       "        vertical-align: top;\n",
       "    }\n",
       "\n",
       "    .dataframe thead th {\n",
       "        text-align: right;\n",
       "    }\n",
       "</style>\n",
       "<table border=\"1\" class=\"dataframe\">\n",
       "  <thead>\n",
       "    <tr style=\"text-align: right;\">\n",
       "      <th></th>\n",
       "      <th>InvoiceNo</th>\n",
       "      <th>StockCode</th>\n",
       "      <th>Description</th>\n",
       "      <th>Quantity</th>\n",
       "      <th>InvoiceDate</th>\n",
       "      <th>UnitPrice</th>\n",
       "      <th>CustomerID</th>\n",
       "      <th>Country</th>\n",
       "    </tr>\n",
       "  </thead>\n",
       "  <tbody>\n",
       "    <tr>\n",
       "      <th>1973</th>\n",
       "      <td>C536548</td>\n",
       "      <td>22244</td>\n",
       "      <td>3 HOOK HANGER MAGIC GARDEN</td>\n",
       "      <td>-4</td>\n",
       "      <td>12/1/2010 14:33</td>\n",
       "      <td>1.95</td>\n",
       "      <td>12472.0</td>\n",
       "      <td>Germany</td>\n",
       "    </tr>\n",
       "    <tr>\n",
       "      <th>1974</th>\n",
       "      <td>C536548</td>\n",
       "      <td>22242</td>\n",
       "      <td>5 HOOK HANGER MAGIC TOADSTOOL</td>\n",
       "      <td>-5</td>\n",
       "      <td>12/1/2010 14:33</td>\n",
       "      <td>1.65</td>\n",
       "      <td>12472.0</td>\n",
       "      <td>Germany</td>\n",
       "    </tr>\n",
       "    <tr>\n",
       "      <th>1975</th>\n",
       "      <td>C536548</td>\n",
       "      <td>20914</td>\n",
       "      <td>SET/5 RED RETROSPOT LID GLASS BOWLS</td>\n",
       "      <td>-1</td>\n",
       "      <td>12/1/2010 14:33</td>\n",
       "      <td>2.95</td>\n",
       "      <td>12472.0</td>\n",
       "      <td>Germany</td>\n",
       "    </tr>\n",
       "    <tr>\n",
       "      <th>1976</th>\n",
       "      <td>C536548</td>\n",
       "      <td>22892</td>\n",
       "      <td>SET OF SALT AND PEPPER TOADSTOOLS</td>\n",
       "      <td>-7</td>\n",
       "      <td>12/1/2010 14:33</td>\n",
       "      <td>1.25</td>\n",
       "      <td>12472.0</td>\n",
       "      <td>Germany</td>\n",
       "    </tr>\n",
       "    <tr>\n",
       "      <th>1977</th>\n",
       "      <td>C536548</td>\n",
       "      <td>22654</td>\n",
       "      <td>DELUXE SEWING KIT</td>\n",
       "      <td>-1</td>\n",
       "      <td>12/1/2010 14:33</td>\n",
       "      <td>5.95</td>\n",
       "      <td>12472.0</td>\n",
       "      <td>Germany</td>\n",
       "    </tr>\n",
       "    <tr>\n",
       "      <th>...</th>\n",
       "      <td>...</td>\n",
       "      <td>...</td>\n",
       "      <td>...</td>\n",
       "      <td>...</td>\n",
       "      <td>...</td>\n",
       "      <td>...</td>\n",
       "      <td>...</td>\n",
       "      <td>...</td>\n",
       "    </tr>\n",
       "    <tr>\n",
       "      <th>538563</th>\n",
       "      <td>C581409</td>\n",
       "      <td>82484</td>\n",
       "      <td>WOOD BLACK BOARD ANT WHITE FINISH</td>\n",
       "      <td>-1</td>\n",
       "      <td>12/8/2011 14:08</td>\n",
       "      <td>7.95</td>\n",
       "      <td>12476.0</td>\n",
       "      <td>Germany</td>\n",
       "    </tr>\n",
       "    <tr>\n",
       "      <th>538564</th>\n",
       "      <td>C581409</td>\n",
       "      <td>82482</td>\n",
       "      <td>WOODEN PICTURE FRAME WHITE FINISH</td>\n",
       "      <td>-1</td>\n",
       "      <td>12/8/2011 14:08</td>\n",
       "      <td>2.95</td>\n",
       "      <td>12476.0</td>\n",
       "      <td>Germany</td>\n",
       "    </tr>\n",
       "    <tr>\n",
       "      <th>538565</th>\n",
       "      <td>C581409</td>\n",
       "      <td>22173</td>\n",
       "      <td>METAL 4 HOOK HANGER FRENCH CHATEAU</td>\n",
       "      <td>-2</td>\n",
       "      <td>12/8/2011 14:08</td>\n",
       "      <td>3.29</td>\n",
       "      <td>12476.0</td>\n",
       "      <td>Germany</td>\n",
       "    </tr>\n",
       "    <tr>\n",
       "      <th>538566</th>\n",
       "      <td>C581409</td>\n",
       "      <td>85199L</td>\n",
       "      <td>LARGE HANGING IVORY &amp; RED WOOD BIRD</td>\n",
       "      <td>-1</td>\n",
       "      <td>12/8/2011 14:08</td>\n",
       "      <td>0.65</td>\n",
       "      <td>12476.0</td>\n",
       "      <td>Germany</td>\n",
       "    </tr>\n",
       "    <tr>\n",
       "      <th>538567</th>\n",
       "      <td>C581409</td>\n",
       "      <td>85127</td>\n",
       "      <td>SMALL SQUARE CUT GLASS CANDLESTICK</td>\n",
       "      <td>-5</td>\n",
       "      <td>12/8/2011 14:08</td>\n",
       "      <td>4.95</td>\n",
       "      <td>12476.0</td>\n",
       "      <td>Germany</td>\n",
       "    </tr>\n",
       "  </tbody>\n",
       "</table>\n",
       "<p>453 rows × 8 columns</p>\n",
       "</div>"
      ],
      "text/plain": [
       "       InvoiceNo StockCode                          Description  Quantity  \\\n",
       "1973     C536548     22244           3 HOOK HANGER MAGIC GARDEN        -4   \n",
       "1974     C536548     22242        5 HOOK HANGER MAGIC TOADSTOOL        -5   \n",
       "1975     C536548     20914  SET/5 RED RETROSPOT LID GLASS BOWLS        -1   \n",
       "1976     C536548     22892    SET OF SALT AND PEPPER TOADSTOOLS        -7   \n",
       "1977     C536548     22654                   DELUXE SEWING KIT         -1   \n",
       "...          ...       ...                                  ...       ...   \n",
       "538563   C581409     82484    WOOD BLACK BOARD ANT WHITE FINISH        -1   \n",
       "538564   C581409     82482    WOODEN PICTURE FRAME WHITE FINISH        -1   \n",
       "538565   C581409     22173   METAL 4 HOOK HANGER FRENCH CHATEAU        -2   \n",
       "538566   C581409    85199L  LARGE HANGING IVORY & RED WOOD BIRD        -1   \n",
       "538567   C581409     85127   SMALL SQUARE CUT GLASS CANDLESTICK        -5   \n",
       "\n",
       "            InvoiceDate  UnitPrice  CustomerID  Country  \n",
       "1973    12/1/2010 14:33       1.95     12472.0  Germany  \n",
       "1974    12/1/2010 14:33       1.65     12472.0  Germany  \n",
       "1975    12/1/2010 14:33       2.95     12472.0  Germany  \n",
       "1976    12/1/2010 14:33       1.25     12472.0  Germany  \n",
       "1977    12/1/2010 14:33       5.95     12472.0  Germany  \n",
       "...                 ...        ...         ...      ...  \n",
       "538563  12/8/2011 14:08       7.95     12476.0  Germany  \n",
       "538564  12/8/2011 14:08       2.95     12476.0  Germany  \n",
       "538565  12/8/2011 14:08       3.29     12476.0  Germany  \n",
       "538566  12/8/2011 14:08       0.65     12476.0  Germany  \n",
       "538567  12/8/2011 14:08       4.95     12476.0  Germany  \n",
       "\n",
       "[453 rows x 8 columns]"
      ]
     },
     "execution_count": 14,
     "metadata": {},
     "output_type": "execute_result"
    }
   ],
   "source": [
    "df.loc[(df['Quantity'] <0)]"
   ]
  },
  {
   "cell_type": "code",
   "execution_count": 9,
   "metadata": {
    "tags": []
   },
   "outputs": [],
   "source": [
    "#removing the rows having negative Quantity values\n",
    "\n",
    "df= df[df['Quantity'] >0]"
   ]
  },
  {
   "cell_type": "code",
   "execution_count": 16,
   "metadata": {
    "tags": []
   },
   "outputs": [
    {
     "name": "stdout",
     "output_type": "stream",
     "text": [
      "Index(['InvoiceNo', 'StockCode', 'Description', 'Quantity', 'InvoiceDate',\n",
      "       'UnitPrice', 'CustomerID', 'Country'],\n",
      "      dtype='object')\n"
     ]
    }
   ],
   "source": [
    "print(df.columns)"
   ]
  },
  {
   "cell_type": "code",
   "execution_count": 10,
   "metadata": {
    "tags": []
   },
   "outputs": [
    {
     "data": {
      "text/plain": [
       "False"
      ]
     },
     "execution_count": 10,
     "metadata": {},
     "output_type": "execute_result"
    }
   ],
   "source": [
    "(df['Quantity'] < 0) .any() # removed negative quantity values "
   ]
  },
  {
   "cell_type": "code",
   "execution_count": 11,
   "metadata": {
    "tags": []
   },
   "outputs": [],
   "source": [
    "df.columns = [column.lower() for column in df.columns]"
   ]
  },
  {
   "cell_type": "code",
   "execution_count": 12,
   "metadata": {
    "id": "G9zj2imdMw3j",
    "tags": []
   },
   "outputs": [],
   "source": [
    "# Calculate the total amount for each transaction (quantity * price)\n",
    "df['total_amount'] = df['quantity'] * df['unitprice']\n"
   ]
  },
  {
   "cell_type": "code",
   "execution_count": 20,
   "metadata": {
    "colab": {
     "base_uri": "https://localhost:8080/"
    },
    "id": "SNB6qMBqfisa",
    "outputId": "9b8e4cf9-2d53-4f63-88f5-f9e3555f1450",
    "tags": []
   },
   "outputs": [
    {
     "data": {
      "text/plain": [
       "invoiceno        object\n",
       "stockcode        object\n",
       "description      object\n",
       "quantity          int64\n",
       "invoicedate      object\n",
       "unitprice       float64\n",
       "customerid      float64\n",
       "country          object\n",
       "total_amount    float64\n",
       "dtype: object"
      ]
     },
     "execution_count": 20,
     "metadata": {},
     "output_type": "execute_result"
    }
   ],
   "source": [
    "df.dtypes"
   ]
  },
  {
   "cell_type": "code",
   "execution_count": 13,
   "metadata": {
    "tags": []
   },
   "outputs": [
    {
     "data": {
      "text/plain": [
       "(9042, 9)"
      ]
     },
     "execution_count": 13,
     "metadata": {},
     "output_type": "execute_result"
    }
   ],
   "source": [
    "df.shape"
   ]
  },
  {
   "cell_type": "code",
   "execution_count": 14,
   "metadata": {
    "id": "E0qeXiXlMw9W",
    "tags": []
   },
   "outputs": [],
   "source": [
    "# removing outliers\n",
    "\n",
    "def remove_outliers_zscore(df, columns, threshold=3):\n",
    "    for column in columns:\n",
    "        z_scores = np.abs((df[column] - df[column].mean()) / df[column].std())\n",
    "        df = df[z_scores < threshold]\n",
    "    return df\n",
    "\n",
    "numerical_columns = ['quantity','unitprice']\n",
    "# Detect and remove outliers from the specified columns\n",
    "df1 = remove_outliers_zscore(df, numerical_columns)\n",
    "\n",
    "# df1 contains the dataset with outliers removed from the specified columns"
   ]
  },
  {
   "cell_type": "code",
   "execution_count": 15,
   "metadata": {
    "tags": []
   },
   "outputs": [
    {
     "data": {
      "text/plain": [
       "(8915, 9)"
      ]
     },
     "execution_count": 15,
     "metadata": {},
     "output_type": "execute_result"
    }
   ],
   "source": [
    "df1.shape"
   ]
  },
  {
   "cell_type": "code",
   "execution_count": 16,
   "metadata": {
    "colab": {
     "base_uri": "https://localhost:8080/"
    },
    "id": "KjqgmaoZZ9yY",
    "outputId": "01472dcd-adb8-4cee-df69-d4aae39c75b7",
    "tags": []
   },
   "outputs": [
    {
     "data": {
      "text/plain": [
       "invoiceno        object\n",
       "stockcode        object\n",
       "description      object\n",
       "quantity          int64\n",
       "invoicedate      object\n",
       "unitprice       float64\n",
       "customerid      float64\n",
       "country          object\n",
       "total_amount    float64\n",
       "dtype: object"
      ]
     },
     "execution_count": 16,
     "metadata": {},
     "output_type": "execute_result"
    }
   ],
   "source": [
    "df1.dtypes"
   ]
  },
  {
   "cell_type": "code",
   "execution_count": 17,
   "metadata": {
    "id": "gXKQJkPgOJA1",
    "tags": []
   },
   "outputs": [],
   "source": [
    "df_sorted = df1.sort_values(by='invoicedate', ascending=False)"
   ]
  },
  {
   "cell_type": "code",
   "execution_count": 18,
   "metadata": {
    "colab": {
     "base_uri": "https://localhost:8080/",
     "height": 112
    },
    "id": "wB0t-UX_OJEJ",
    "outputId": "b83410ba-1239-437d-cd4a-9753e8e23f04",
    "tags": []
   },
   "outputs": [
    {
     "data": {
      "text/html": [
       "<div>\n",
       "<style scoped>\n",
       "    .dataframe tbody tr th:only-of-type {\n",
       "        vertical-align: middle;\n",
       "    }\n",
       "\n",
       "    .dataframe tbody tr th {\n",
       "        vertical-align: top;\n",
       "    }\n",
       "\n",
       "    .dataframe thead th {\n",
       "        text-align: right;\n",
       "    }\n",
       "</style>\n",
       "<table border=\"1\" class=\"dataframe\">\n",
       "  <thead>\n",
       "    <tr style=\"text-align: right;\">\n",
       "      <th></th>\n",
       "      <th>invoiceno</th>\n",
       "      <th>stockcode</th>\n",
       "      <th>description</th>\n",
       "      <th>quantity</th>\n",
       "      <th>invoicedate</th>\n",
       "      <th>unitprice</th>\n",
       "      <th>customerid</th>\n",
       "      <th>country</th>\n",
       "      <th>total_amount</th>\n",
       "    </tr>\n",
       "  </thead>\n",
       "  <tbody>\n",
       "    <tr>\n",
       "      <th>332129</th>\n",
       "      <td>566059</td>\n",
       "      <td>22624</td>\n",
       "      <td>IVORY KITCHEN SCALES</td>\n",
       "      <td>4</td>\n",
       "      <td>9/8/2011 15:22</td>\n",
       "      <td>8.5</td>\n",
       "      <td>12569.0</td>\n",
       "      <td>Germany</td>\n",
       "      <td>34.0</td>\n",
       "    </tr>\n",
       "    <tr>\n",
       "      <th>332128</th>\n",
       "      <td>566059</td>\n",
       "      <td>22625</td>\n",
       "      <td>RED KITCHEN SCALES</td>\n",
       "      <td>4</td>\n",
       "      <td>9/8/2011 15:22</td>\n",
       "      <td>8.5</td>\n",
       "      <td>12569.0</td>\n",
       "      <td>Germany</td>\n",
       "      <td>34.0</td>\n",
       "    </tr>\n",
       "  </tbody>\n",
       "</table>\n",
       "</div>"
      ],
      "text/plain": [
       "       invoiceno stockcode           description  quantity     invoicedate  \\\n",
       "332129    566059     22624  IVORY KITCHEN SCALES         4  9/8/2011 15:22   \n",
       "332128    566059     22625    RED KITCHEN SCALES         4  9/8/2011 15:22   \n",
       "\n",
       "        unitprice  customerid  country  total_amount  \n",
       "332129        8.5     12569.0  Germany          34.0  \n",
       "332128        8.5     12569.0  Germany          34.0  "
      ]
     },
     "execution_count": 18,
     "metadata": {},
     "output_type": "execute_result"
    }
   ],
   "source": [
    "df_sorted.head(2)"
   ]
  },
  {
   "cell_type": "markdown",
   "metadata": {
    "id": "rVjaS0XEaGjl"
   },
   "source": [
    "The recent date in df is 2011/12/9. we will use this date to calculate the recency.\n",
    "- for RFM analysis we will perform the following operations\n",
    "- For recency, calculate the number of days between the present date and the date of last purchase of the customer\n",
    "- For frequency, calculate the number of orders for each customer\n",
    "- For monetary, calculate sum of purchase price for each customer\n",
    "\n"
   ]
  },
  {
   "cell_type": "code",
   "execution_count": 19,
   "metadata": {
    "id": "i1ae4cfyaYpF",
    "tags": []
   },
   "outputs": [],
   "source": [
    "import datetime as dt\n",
    "\n",
    "\n",
    "now = pd.Timestamp(dt.date(2011, 12, 9))\n"
   ]
  },
  {
   "cell_type": "code",
   "execution_count": 28,
   "metadata": {
    "tags": []
   },
   "outputs": [
    {
     "data": {
      "text/html": [
       "<div>\n",
       "<style scoped>\n",
       "    .dataframe tbody tr th:only-of-type {\n",
       "        vertical-align: middle;\n",
       "    }\n",
       "\n",
       "    .dataframe tbody tr th {\n",
       "        vertical-align: top;\n",
       "    }\n",
       "\n",
       "    .dataframe thead th {\n",
       "        text-align: right;\n",
       "    }\n",
       "</style>\n",
       "<table border=\"1\" class=\"dataframe\">\n",
       "  <thead>\n",
       "    <tr style=\"text-align: right;\">\n",
       "      <th></th>\n",
       "      <th>invoiceno</th>\n",
       "      <th>stockcode</th>\n",
       "      <th>description</th>\n",
       "      <th>quantity</th>\n",
       "      <th>invoicedate</th>\n",
       "      <th>unitprice</th>\n",
       "      <th>customerid</th>\n",
       "      <th>country</th>\n",
       "      <th>total_amount</th>\n",
       "    </tr>\n",
       "  </thead>\n",
       "  <tbody>\n",
       "    <tr>\n",
       "      <th>1109</th>\n",
       "      <td>536527</td>\n",
       "      <td>22809</td>\n",
       "      <td>SET OF 6 T-LIGHTS SANTA</td>\n",
       "      <td>6</td>\n",
       "      <td>12/1/2010 13:04</td>\n",
       "      <td>2.95</td>\n",
       "      <td>12662.0</td>\n",
       "      <td>Germany</td>\n",
       "      <td>17.7</td>\n",
       "    </tr>\n",
       "    <tr>\n",
       "      <th>1110</th>\n",
       "      <td>536527</td>\n",
       "      <td>84347</td>\n",
       "      <td>ROTATING SILVER ANGELS T-LIGHT HLDR</td>\n",
       "      <td>6</td>\n",
       "      <td>12/1/2010 13:04</td>\n",
       "      <td>2.55</td>\n",
       "      <td>12662.0</td>\n",
       "      <td>Germany</td>\n",
       "      <td>15.3</td>\n",
       "    </tr>\n",
       "  </tbody>\n",
       "</table>\n",
       "</div>"
      ],
      "text/plain": [
       "     invoiceno stockcode                          description  quantity  \\\n",
       "1109    536527     22809              SET OF 6 T-LIGHTS SANTA         6   \n",
       "1110    536527     84347  ROTATING SILVER ANGELS T-LIGHT HLDR         6   \n",
       "\n",
       "          invoicedate  unitprice  customerid  country  total_amount  \n",
       "1109  12/1/2010 13:04       2.95     12662.0  Germany          17.7  \n",
       "1110  12/1/2010 13:04       2.55     12662.0  Germany          15.3  "
      ]
     },
     "execution_count": 28,
     "metadata": {},
     "output_type": "execute_result"
    }
   ],
   "source": [
    "df1.head(2)"
   ]
  },
  {
   "cell_type": "code",
   "execution_count": 20,
   "metadata": {
    "tags": []
   },
   "outputs": [],
   "source": [
    "df1['invoicedate']= pd.to_datetime(df1['invoicedate'], format = '%m/%d/%Y %H:%M')"
   ]
  },
  {
   "cell_type": "code",
   "execution_count": 22,
   "metadata": {
    "tags": []
   },
   "outputs": [
    {
     "data": {
      "text/plain": [
       "invoiceno               object\n",
       "stockcode               object\n",
       "description             object\n",
       "quantity                 int64\n",
       "invoicedate     datetime64[ns]\n",
       "unitprice              float64\n",
       "customerid             float64\n",
       "country                 object\n",
       "total_amount           float64\n",
       "dtype: object"
      ]
     },
     "execution_count": 22,
     "metadata": {},
     "output_type": "execute_result"
    }
   ],
   "source": [
    "df1.dtypes"
   ]
  },
  {
   "cell_type": "code",
   "execution_count": 23,
   "metadata": {
    "tags": []
   },
   "outputs": [],
   "source": [
    "# Changing the customerid dtype to object \n",
    "\n",
    "df1['customerid'] = df1['customerid'].astype(object)"
   ]
  },
  {
   "cell_type": "code",
   "execution_count": 24,
   "metadata": {
    "tags": []
   },
   "outputs": [
    {
     "data": {
      "text/plain": [
       "invoiceno               object\n",
       "stockcode               object\n",
       "description             object\n",
       "quantity                 int64\n",
       "invoicedate     datetime64[ns]\n",
       "unitprice              float64\n",
       "customerid              object\n",
       "country                 object\n",
       "total_amount           float64\n",
       "dtype: object"
      ]
     },
     "execution_count": 24,
     "metadata": {},
     "output_type": "execute_result"
    }
   ],
   "source": [
    "df1.dtypes"
   ]
  },
  {
   "cell_type": "code",
   "execution_count": 25,
   "metadata": {
    "tags": []
   },
   "outputs": [
    {
     "data": {
      "text/html": [
       "<div>\n",
       "<style scoped>\n",
       "    .dataframe tbody tr th:only-of-type {\n",
       "        vertical-align: middle;\n",
       "    }\n",
       "\n",
       "    .dataframe tbody tr th {\n",
       "        vertical-align: top;\n",
       "    }\n",
       "\n",
       "    .dataframe thead th {\n",
       "        text-align: right;\n",
       "    }\n",
       "</style>\n",
       "<table border=\"1\" class=\"dataframe\">\n",
       "  <thead>\n",
       "    <tr style=\"text-align: right;\">\n",
       "      <th></th>\n",
       "      <th>invoiceno</th>\n",
       "      <th>stockcode</th>\n",
       "      <th>description</th>\n",
       "      <th>quantity</th>\n",
       "      <th>invoicedate</th>\n",
       "      <th>unitprice</th>\n",
       "      <th>customerid</th>\n",
       "      <th>country</th>\n",
       "      <th>total_amount</th>\n",
       "    </tr>\n",
       "  </thead>\n",
       "  <tbody>\n",
       "    <tr>\n",
       "      <th>541805</th>\n",
       "      <td>581578</td>\n",
       "      <td>22736</td>\n",
       "      <td>RIBBON REEL MAKING SNOWMEN</td>\n",
       "      <td>10</td>\n",
       "      <td>2011-12-09 12:16:00</td>\n",
       "      <td>1.65</td>\n",
       "      <td>12713.0</td>\n",
       "      <td>Germany</td>\n",
       "      <td>16.50</td>\n",
       "    </tr>\n",
       "    <tr>\n",
       "      <th>541776</th>\n",
       "      <td>581578</td>\n",
       "      <td>84997D</td>\n",
       "      <td>CHILDRENS CUTLERY POLKADOT PINK</td>\n",
       "      <td>8</td>\n",
       "      <td>2011-12-09 12:16:00</td>\n",
       "      <td>4.15</td>\n",
       "      <td>12713.0</td>\n",
       "      <td>Germany</td>\n",
       "      <td>33.20</td>\n",
       "    </tr>\n",
       "    <tr>\n",
       "      <th>541784</th>\n",
       "      <td>581578</td>\n",
       "      <td>22991</td>\n",
       "      <td>GIRAFFE WOODEN RULER</td>\n",
       "      <td>12</td>\n",
       "      <td>2011-12-09 12:16:00</td>\n",
       "      <td>1.95</td>\n",
       "      <td>12713.0</td>\n",
       "      <td>Germany</td>\n",
       "      <td>23.40</td>\n",
       "    </tr>\n",
       "    <tr>\n",
       "      <th>541783</th>\n",
       "      <td>581578</td>\n",
       "      <td>22992</td>\n",
       "      <td>REVOLVER WOODEN RULER</td>\n",
       "      <td>12</td>\n",
       "      <td>2011-12-09 12:16:00</td>\n",
       "      <td>1.95</td>\n",
       "      <td>12713.0</td>\n",
       "      <td>Germany</td>\n",
       "      <td>23.40</td>\n",
       "    </tr>\n",
       "    <tr>\n",
       "      <th>541782</th>\n",
       "      <td>581578</td>\n",
       "      <td>21918</td>\n",
       "      <td>SET 12 KIDS COLOUR  CHALK STICKS</td>\n",
       "      <td>24</td>\n",
       "      <td>2011-12-09 12:16:00</td>\n",
       "      <td>0.42</td>\n",
       "      <td>12713.0</td>\n",
       "      <td>Germany</td>\n",
       "      <td>10.08</td>\n",
       "    </tr>\n",
       "    <tr>\n",
       "      <th>...</th>\n",
       "      <td>...</td>\n",
       "      <td>...</td>\n",
       "      <td>...</td>\n",
       "      <td>...</td>\n",
       "      <td>...</td>\n",
       "      <td>...</td>\n",
       "      <td>...</td>\n",
       "      <td>...</td>\n",
       "      <td>...</td>\n",
       "    </tr>\n",
       "    <tr>\n",
       "      <th>1120</th>\n",
       "      <td>536527</td>\n",
       "      <td>22973</td>\n",
       "      <td>CHILDREN'S CIRCUS PARADE MUG</td>\n",
       "      <td>12</td>\n",
       "      <td>2010-12-01 13:04:00</td>\n",
       "      <td>1.65</td>\n",
       "      <td>12662.0</td>\n",
       "      <td>Germany</td>\n",
       "      <td>19.80</td>\n",
       "    </tr>\n",
       "    <tr>\n",
       "      <th>1121</th>\n",
       "      <td>536527</td>\n",
       "      <td>84569B</td>\n",
       "      <td>PACK 3 FIRE ENGINE/CAR PATCHES</td>\n",
       "      <td>12</td>\n",
       "      <td>2010-12-01 13:04:00</td>\n",
       "      <td>1.25</td>\n",
       "      <td>12662.0</td>\n",
       "      <td>Germany</td>\n",
       "      <td>15.00</td>\n",
       "    </tr>\n",
       "    <tr>\n",
       "      <th>1122</th>\n",
       "      <td>536527</td>\n",
       "      <td>22549</td>\n",
       "      <td>PICTURE DOMINOES</td>\n",
       "      <td>12</td>\n",
       "      <td>2010-12-01 13:04:00</td>\n",
       "      <td>1.45</td>\n",
       "      <td>12662.0</td>\n",
       "      <td>Germany</td>\n",
       "      <td>17.40</td>\n",
       "    </tr>\n",
       "    <tr>\n",
       "      <th>1123</th>\n",
       "      <td>536527</td>\n",
       "      <td>POST</td>\n",
       "      <td>POSTAGE</td>\n",
       "      <td>1</td>\n",
       "      <td>2010-12-01 13:04:00</td>\n",
       "      <td>18.00</td>\n",
       "      <td>12662.0</td>\n",
       "      <td>Germany</td>\n",
       "      <td>18.00</td>\n",
       "    </tr>\n",
       "    <tr>\n",
       "      <th>1109</th>\n",
       "      <td>536527</td>\n",
       "      <td>22809</td>\n",
       "      <td>SET OF 6 T-LIGHTS SANTA</td>\n",
       "      <td>6</td>\n",
       "      <td>2010-12-01 13:04:00</td>\n",
       "      <td>2.95</td>\n",
       "      <td>12662.0</td>\n",
       "      <td>Germany</td>\n",
       "      <td>17.70</td>\n",
       "    </tr>\n",
       "  </tbody>\n",
       "</table>\n",
       "<p>8915 rows × 9 columns</p>\n",
       "</div>"
      ],
      "text/plain": [
       "       invoiceno stockcode                       description  quantity  \\\n",
       "541805    581578     22736       RIBBON REEL MAKING SNOWMEN         10   \n",
       "541776    581578    84997D   CHILDRENS CUTLERY POLKADOT PINK         8   \n",
       "541784    581578     22991              GIRAFFE WOODEN RULER        12   \n",
       "541783    581578     22992            REVOLVER WOODEN RULER         12   \n",
       "541782    581578     21918  SET 12 KIDS COLOUR  CHALK STICKS        24   \n",
       "...          ...       ...                               ...       ...   \n",
       "1120      536527     22973      CHILDREN'S CIRCUS PARADE MUG        12   \n",
       "1121      536527    84569B    PACK 3 FIRE ENGINE/CAR PATCHES        12   \n",
       "1122      536527     22549                  PICTURE DOMINOES        12   \n",
       "1123      536527      POST                           POSTAGE         1   \n",
       "1109      536527     22809           SET OF 6 T-LIGHTS SANTA         6   \n",
       "\n",
       "               invoicedate  unitprice customerid  country  total_amount  \n",
       "541805 2011-12-09 12:16:00       1.65    12713.0  Germany         16.50  \n",
       "541776 2011-12-09 12:16:00       4.15    12713.0  Germany         33.20  \n",
       "541784 2011-12-09 12:16:00       1.95    12713.0  Germany         23.40  \n",
       "541783 2011-12-09 12:16:00       1.95    12713.0  Germany         23.40  \n",
       "541782 2011-12-09 12:16:00       0.42    12713.0  Germany         10.08  \n",
       "...                    ...        ...        ...      ...           ...  \n",
       "1120   2010-12-01 13:04:00       1.65    12662.0  Germany         19.80  \n",
       "1121   2010-12-01 13:04:00       1.25    12662.0  Germany         15.00  \n",
       "1122   2010-12-01 13:04:00       1.45    12662.0  Germany         17.40  \n",
       "1123   2010-12-01 13:04:00      18.00    12662.0  Germany         18.00  \n",
       "1109   2010-12-01 13:04:00       2.95    12662.0  Germany         17.70  \n",
       "\n",
       "[8915 rows x 9 columns]"
      ]
     },
     "execution_count": 25,
     "metadata": {},
     "output_type": "execute_result"
    }
   ],
   "source": [
    " df1.sort_values(by='invoicedate', ascending=False)"
   ]
  },
  {
   "cell_type": "markdown",
   "metadata": {},
   "source": [
    "# Recency "
   ]
  },
  {
   "cell_type": "code",
   "execution_count": 26,
   "metadata": {
    "id": "E-RXDQmHaYtd",
    "tags": []
   },
   "outputs": [],
   "source": [
    "# grouping customer id and finding the recent date of purchase and creating the new data frame recency\n",
    "recency_df = df1.groupby(['customerid'], as_index= False)['invoicedate'].max()\n",
    "\n",
    "recency_df.columns = ['customerid','last_purchase_date']"
   ]
  },
  {
   "cell_type": "code",
   "execution_count": 35,
   "metadata": {
    "colab": {
     "base_uri": "https://localhost:8080/"
    },
    "id": "yOmuw-cucgd9",
    "outputId": "632930b1-1123-4bd2-9bc0-85508a4759ed",
    "tags": []
   },
   "outputs": [
    {
     "data": {
      "text/plain": [
       "customerid                   float64\n",
       "last_purchase_date    datetime64[ns]\n",
       "dtype: object"
      ]
     },
     "execution_count": 35,
     "metadata": {},
     "output_type": "execute_result"
    }
   ],
   "source": [
    "recency_df.dtypes"
   ]
  },
  {
   "cell_type": "code",
   "execution_count": 27,
   "metadata": {
    "tags": []
   },
   "outputs": [
    {
     "name": "stdout",
     "output_type": "stream",
     "text": [
      "Invalid dates:     customerid  last_purchase_date\n",
      "21     12518.0 2011-12-09 10:13:00\n",
      "27     12526.0 2011-12-09 12:09:00\n",
      "69     12662.0 2011-12-09 11:59:00\n",
      "82     12713.0 2011-12-09 12:16:00\n"
     ]
    }
   ],
   "source": [
    "# Check for invalid date ranges\n",
    "invalid_dates = recency_df[recency_df['last_purchase_date'] > now]\n",
    "print(\"Invalid dates:\", invalid_dates)\n"
   ]
  },
  {
   "cell_type": "code",
   "execution_count": 28,
   "metadata": {
    "id": "F2bHJVpXAGMh",
    "tags": []
   },
   "outputs": [],
   "source": [
    "#recency_df['recency'] =  recency_df['last_purchase_date'].apply(lambda x: (now-x).days)\n",
    "\n",
    "recency_df['recency'] = recency_df['last_purchase_date'].apply(lambda x: (now.replace(hour=0, minute=0, second=0, microsecond=0) - x.replace(hour=0, minute=0, second=0, microsecond=0)).days)"
   ]
  },
  {
   "cell_type": "code",
   "execution_count": 38,
   "metadata": {
    "colab": {
     "base_uri": "https://localhost:8080/",
     "height": 363
    },
    "id": "5-OZzcMShGAR",
    "outputId": "10c606de-6454-4645-bb9f-e1aa49837eff",
    "tags": []
   },
   "outputs": [
    {
     "data": {
      "text/html": [
       "<div>\n",
       "<style scoped>\n",
       "    .dataframe tbody tr th:only-of-type {\n",
       "        vertical-align: middle;\n",
       "    }\n",
       "\n",
       "    .dataframe tbody tr th {\n",
       "        vertical-align: top;\n",
       "    }\n",
       "\n",
       "    .dataframe thead th {\n",
       "        text-align: right;\n",
       "    }\n",
       "</style>\n",
       "<table border=\"1\" class=\"dataframe\">\n",
       "  <thead>\n",
       "    <tr style=\"text-align: right;\">\n",
       "      <th></th>\n",
       "      <th>customerid</th>\n",
       "      <th>last_purchase_date</th>\n",
       "      <th>recency</th>\n",
       "    </tr>\n",
       "  </thead>\n",
       "  <tbody>\n",
       "    <tr>\n",
       "      <th>0</th>\n",
       "      <td>12426.0</td>\n",
       "      <td>2011-05-29 12:26:00</td>\n",
       "      <td>194</td>\n",
       "    </tr>\n",
       "    <tr>\n",
       "      <th>1</th>\n",
       "      <td>12427.0</td>\n",
       "      <td>2011-11-18 08:56:00</td>\n",
       "      <td>21</td>\n",
       "    </tr>\n",
       "    <tr>\n",
       "      <th>2</th>\n",
       "      <td>12468.0</td>\n",
       "      <td>2011-06-05 11:36:00</td>\n",
       "      <td>187</td>\n",
       "    </tr>\n",
       "    <tr>\n",
       "      <th>3</th>\n",
       "      <td>12471.0</td>\n",
       "      <td>2011-12-07 15:43:00</td>\n",
       "      <td>2</td>\n",
       "    </tr>\n",
       "  </tbody>\n",
       "</table>\n",
       "</div>"
      ],
      "text/plain": [
       "   customerid  last_purchase_date  recency\n",
       "0     12426.0 2011-05-29 12:26:00      194\n",
       "1     12427.0 2011-11-18 08:56:00       21\n",
       "2     12468.0 2011-06-05 11:36:00      187\n",
       "3     12471.0 2011-12-07 15:43:00        2"
      ]
     },
     "execution_count": 38,
     "metadata": {},
     "output_type": "execute_result"
    }
   ],
   "source": [
    "recency_df.head(4)"
   ]
  },
  {
   "cell_type": "markdown",
   "metadata": {
    "id": "yVog0wl9iOwZ",
    "tags": []
   },
   "source": [
    "# Frequency & Monetary Calculations"
   ]
  },
  {
   "cell_type": "code",
   "execution_count": 29,
   "metadata": {
    "tags": []
   },
   "outputs": [],
   "source": [
    "fm_df = df.groupby('customerid').agg({\n",
    "    'invoiceno': 'count',       # Use 'count' to get the frequency (number of invoices) per customer_id\n",
    "    'total_amount': 'sum'        # Sum the 'total_amount' per customer_id\n",
    "})\n",
    "\n",
    "fm_df.rename(columns={'invoiceno': 'frequency', 'total_amount': 'monetary'}, inplace=True)"
   ]
  },
  {
   "cell_type": "code",
   "execution_count": 40,
   "metadata": {
    "id": "TZoES_dsiO4C",
    "tags": []
   },
   "outputs": [],
   "source": [
    "# fm_df.rename(columns = {'invoice_no': 'frequency',\n",
    "#                         'total_amount': 'Monetary'}, inplace = True)"
   ]
  },
  {
   "cell_type": "code",
   "execution_count": 30,
   "metadata": {
    "id": "uwIFXmIKiO-G",
    "tags": []
   },
   "outputs": [
    {
     "data": {
      "text/html": [
       "<div>\n",
       "<style scoped>\n",
       "    .dataframe tbody tr th:only-of-type {\n",
       "        vertical-align: middle;\n",
       "    }\n",
       "\n",
       "    .dataframe tbody tr th {\n",
       "        vertical-align: top;\n",
       "    }\n",
       "\n",
       "    .dataframe thead th {\n",
       "        text-align: right;\n",
       "    }\n",
       "</style>\n",
       "<table border=\"1\" class=\"dataframe\">\n",
       "  <thead>\n",
       "    <tr style=\"text-align: right;\">\n",
       "      <th></th>\n",
       "      <th>frequency</th>\n",
       "      <th>monetary</th>\n",
       "    </tr>\n",
       "    <tr>\n",
       "      <th>customerid</th>\n",
       "      <th></th>\n",
       "      <th></th>\n",
       "    </tr>\n",
       "  </thead>\n",
       "  <tbody>\n",
       "    <tr>\n",
       "      <th>12426.0</th>\n",
       "      <td>30</td>\n",
       "      <td>582.73</td>\n",
       "    </tr>\n",
       "    <tr>\n",
       "      <th>12427.0</th>\n",
       "      <td>31</td>\n",
       "      <td>825.80</td>\n",
       "    </tr>\n",
       "  </tbody>\n",
       "</table>\n",
       "</div>"
      ],
      "text/plain": [
       "            frequency  monetary\n",
       "customerid                     \n",
       "12426.0            30    582.73\n",
       "12427.0            31    825.80"
      ]
     },
     "execution_count": 30,
     "metadata": {},
     "output_type": "execute_result"
    }
   ],
   "source": [
    "fm_df.head(2)"
   ]
  },
  {
   "cell_type": "code",
   "execution_count": 31,
   "metadata": {
    "tags": []
   },
   "outputs": [],
   "source": [
    "rfm_df = recency_df.merge(fm_df, left_on = 'customerid', right_on= 'customerid')"
   ]
  },
  {
   "cell_type": "code",
   "execution_count": 32,
   "metadata": {
    "tags": []
   },
   "outputs": [
    {
     "data": {
      "text/html": [
       "<div>\n",
       "<style scoped>\n",
       "    .dataframe tbody tr th:only-of-type {\n",
       "        vertical-align: middle;\n",
       "    }\n",
       "\n",
       "    .dataframe tbody tr th {\n",
       "        vertical-align: top;\n",
       "    }\n",
       "\n",
       "    .dataframe thead th {\n",
       "        text-align: right;\n",
       "    }\n",
       "</style>\n",
       "<table border=\"1\" class=\"dataframe\">\n",
       "  <thead>\n",
       "    <tr style=\"text-align: right;\">\n",
       "      <th></th>\n",
       "      <th>customerid</th>\n",
       "      <th>last_purchase_date</th>\n",
       "      <th>recency</th>\n",
       "      <th>frequency</th>\n",
       "      <th>monetary</th>\n",
       "    </tr>\n",
       "  </thead>\n",
       "  <tbody>\n",
       "    <tr>\n",
       "      <th>0</th>\n",
       "      <td>12426.0</td>\n",
       "      <td>2011-05-29 12:26:00</td>\n",
       "      <td>194</td>\n",
       "      <td>30</td>\n",
       "      <td>582.73</td>\n",
       "    </tr>\n",
       "    <tr>\n",
       "      <th>1</th>\n",
       "      <td>12427.0</td>\n",
       "      <td>2011-11-18 08:56:00</td>\n",
       "      <td>21</td>\n",
       "      <td>31</td>\n",
       "      <td>825.80</td>\n",
       "    </tr>\n",
       "  </tbody>\n",
       "</table>\n",
       "</div>"
      ],
      "text/plain": [
       "   customerid  last_purchase_date  recency  frequency  monetary\n",
       "0     12426.0 2011-05-29 12:26:00      194         30    582.73\n",
       "1     12427.0 2011-11-18 08:56:00       21         31    825.80"
      ]
     },
     "execution_count": 32,
     "metadata": {},
     "output_type": "execute_result"
    }
   ],
   "source": [
    "rfm_df.head(2)"
   ]
  },
  {
   "cell_type": "code",
   "execution_count": 33,
   "metadata": {
    "tags": []
   },
   "outputs": [],
   "source": [
    "rfm_df.drop('last_purchase_date', axis = 1, inplace = True)"
   ]
  },
  {
   "cell_type": "code",
   "execution_count": 45,
   "metadata": {
    "tags": []
   },
   "outputs": [
    {
     "data": {
      "text/html": [
       "<div>\n",
       "<style scoped>\n",
       "    .dataframe tbody tr th:only-of-type {\n",
       "        vertical-align: middle;\n",
       "    }\n",
       "\n",
       "    .dataframe tbody tr th {\n",
       "        vertical-align: top;\n",
       "    }\n",
       "\n",
       "    .dataframe thead th {\n",
       "        text-align: right;\n",
       "    }\n",
       "</style>\n",
       "<table border=\"1\" class=\"dataframe\">\n",
       "  <thead>\n",
       "    <tr style=\"text-align: right;\">\n",
       "      <th></th>\n",
       "      <th>customerid</th>\n",
       "      <th>recency</th>\n",
       "      <th>frequency</th>\n",
       "      <th>monetary</th>\n",
       "    </tr>\n",
       "  </thead>\n",
       "  <tbody>\n",
       "    <tr>\n",
       "      <th>0</th>\n",
       "      <td>12426.0</td>\n",
       "      <td>194</td>\n",
       "      <td>30</td>\n",
       "      <td>582.73</td>\n",
       "    </tr>\n",
       "    <tr>\n",
       "      <th>1</th>\n",
       "      <td>12427.0</td>\n",
       "      <td>21</td>\n",
       "      <td>31</td>\n",
       "      <td>825.80</td>\n",
       "    </tr>\n",
       "  </tbody>\n",
       "</table>\n",
       "</div>"
      ],
      "text/plain": [
       "   customerid  recency  frequency  monetary\n",
       "0     12426.0      194         30    582.73\n",
       "1     12427.0       21         31    825.80"
      ]
     },
     "execution_count": 45,
     "metadata": {},
     "output_type": "execute_result"
    }
   ],
   "source": [
    "rfm_df.head(2)"
   ]
  },
  {
   "cell_type": "markdown",
   "metadata": {},
   "source": [
    " Now we are going to split the rfm metrics into quantiles and assign scores . 1 is the highest and 4 is the lowest "
   ]
  },
  {
   "cell_type": "code",
   "execution_count": 34,
   "metadata": {
    "tags": []
   },
   "outputs": [],
   "source": [
    "quantiles = rfm_df.quantile(q=[0.25,0.50,0.75])\n",
    "quantiles = quantiles.to_dict()"
   ]
  },
  {
   "cell_type": "code",
   "execution_count": 35,
   "metadata": {
    "tags": []
   },
   "outputs": [],
   "source": [
    "rfm_segment = rfm_df.copy()"
   ]
  },
  {
   "cell_type": "code",
   "execution_count": 36,
   "metadata": {
    "tags": []
   },
   "outputs": [],
   "source": [
    "def RScore(x,p,d):\n",
    "    if x <= d[p][0.25]:\n",
    "        return 1\n",
    "    elif x <= d[p][0.50]:\n",
    "        return 2\n",
    "    elif x <= d[p][0.75]: \n",
    "        return 3\n",
    "    else:\n",
    "        return 4\n",
    "    \n",
    "def FMScore(x,p,d):\n",
    "    if x <= d[p][0.25]:\n",
    "        return 4\n",
    "    elif x <= d[p][0.50]:\n",
    "        return 3\n",
    "    elif x <= d[p][0.75]: \n",
    "        return 2\n",
    "    else:\n",
    "        return 1"
   ]
  },
  {
   "cell_type": "code",
   "execution_count": 37,
   "metadata": {
    "tags": []
   },
   "outputs": [
    {
     "data": {
      "text/html": [
       "<div>\n",
       "<style scoped>\n",
       "    .dataframe tbody tr th:only-of-type {\n",
       "        vertical-align: middle;\n",
       "    }\n",
       "\n",
       "    .dataframe tbody tr th {\n",
       "        vertical-align: top;\n",
       "    }\n",
       "\n",
       "    .dataframe thead th {\n",
       "        text-align: right;\n",
       "    }\n",
       "</style>\n",
       "<table border=\"1\" class=\"dataframe\">\n",
       "  <thead>\n",
       "    <tr style=\"text-align: right;\">\n",
       "      <th></th>\n",
       "      <th>customerid</th>\n",
       "      <th>recency</th>\n",
       "      <th>frequency</th>\n",
       "      <th>monetary</th>\n",
       "      <th>r_quartile</th>\n",
       "      <th>f_quartile</th>\n",
       "      <th>m_quartile</th>\n",
       "    </tr>\n",
       "  </thead>\n",
       "  <tbody>\n",
       "    <tr>\n",
       "      <th>0</th>\n",
       "      <td>12426.0</td>\n",
       "      <td>194</td>\n",
       "      <td>30</td>\n",
       "      <td>582.73</td>\n",
       "      <td>4</td>\n",
       "      <td>3</td>\n",
       "      <td>3</td>\n",
       "    </tr>\n",
       "    <tr>\n",
       "      <th>1</th>\n",
       "      <td>12427.0</td>\n",
       "      <td>21</td>\n",
       "      <td>31</td>\n",
       "      <td>825.80</td>\n",
       "      <td>2</td>\n",
       "      <td>3</td>\n",
       "      <td>3</td>\n",
       "    </tr>\n",
       "    <tr>\n",
       "      <th>2</th>\n",
       "      <td>12468.0</td>\n",
       "      <td>187</td>\n",
       "      <td>38</td>\n",
       "      <td>729.54</td>\n",
       "      <td>4</td>\n",
       "      <td>3</td>\n",
       "      <td>3</td>\n",
       "    </tr>\n",
       "    <tr>\n",
       "      <th>3</th>\n",
       "      <td>12471.0</td>\n",
       "      <td>2</td>\n",
       "      <td>460</td>\n",
       "      <td>19824.05</td>\n",
       "      <td>1</td>\n",
       "      <td>1</td>\n",
       "      <td>1</td>\n",
       "    </tr>\n",
       "    <tr>\n",
       "      <th>4</th>\n",
       "      <td>12472.0</td>\n",
       "      <td>32</td>\n",
       "      <td>339</td>\n",
       "      <td>6572.11</td>\n",
       "      <td>3</td>\n",
       "      <td>1</td>\n",
       "      <td>1</td>\n",
       "    </tr>\n",
       "  </tbody>\n",
       "</table>\n",
       "</div>"
      ],
      "text/plain": [
       "   customerid  recency  frequency  monetary  r_quartile  f_quartile  \\\n",
       "0     12426.0      194         30    582.73           4           3   \n",
       "1     12427.0       21         31    825.80           2           3   \n",
       "2     12468.0      187         38    729.54           4           3   \n",
       "3     12471.0        2        460  19824.05           1           1   \n",
       "4     12472.0       32        339   6572.11           3           1   \n",
       "\n",
       "   m_quartile  \n",
       "0           3  \n",
       "1           3  \n",
       "2           3  \n",
       "3           1  \n",
       "4           1  "
      ]
     },
     "execution_count": 37,
     "metadata": {},
     "output_type": "execute_result"
    }
   ],
   "source": [
    "rfm_segment['r_quartile'] = rfm_segment['recency'].apply(RScore, args=('recency',quantiles))\n",
    "rfm_segment['f_quartile'] = rfm_segment['frequency'].apply(FMScore, args=('frequency',quantiles))\n",
    "rfm_segment['m_quartile'] = rfm_segment['monetary'].apply(FMScore, args=('monetary',quantiles))\n",
    "rfm_segment.head()\n"
   ]
  },
  {
   "cell_type": "markdown",
   "metadata": {},
   "source": [
    "Calculating the RFM score combined by concatenating the scores\n"
   ]
  },
  {
   "cell_type": "code",
   "execution_count": 38,
   "metadata": {
    "tags": []
   },
   "outputs": [],
   "source": [
    "rfm_segment['rfm_segment'] = rfm_segment['r_quartile'].astype(str) + rfm_segment['f_quartile'].astype(str) + rfm_segment['m_quartile'].astype(str)\n"
   ]
  },
  {
   "cell_type": "code",
   "execution_count": 39,
   "metadata": {
    "tags": []
   },
   "outputs": [
    {
     "data": {
      "text/html": [
       "<div>\n",
       "<style scoped>\n",
       "    .dataframe tbody tr th:only-of-type {\n",
       "        vertical-align: middle;\n",
       "    }\n",
       "\n",
       "    .dataframe tbody tr th {\n",
       "        vertical-align: top;\n",
       "    }\n",
       "\n",
       "    .dataframe thead th {\n",
       "        text-align: right;\n",
       "    }\n",
       "</style>\n",
       "<table border=\"1\" class=\"dataframe\">\n",
       "  <thead>\n",
       "    <tr style=\"text-align: right;\">\n",
       "      <th></th>\n",
       "      <th>customerid</th>\n",
       "      <th>recency</th>\n",
       "      <th>frequency</th>\n",
       "      <th>monetary</th>\n",
       "      <th>r_quartile</th>\n",
       "      <th>f_quartile</th>\n",
       "      <th>m_quartile</th>\n",
       "      <th>rfm_segment</th>\n",
       "    </tr>\n",
       "  </thead>\n",
       "  <tbody>\n",
       "    <tr>\n",
       "      <th>0</th>\n",
       "      <td>12426.0</td>\n",
       "      <td>194</td>\n",
       "      <td>30</td>\n",
       "      <td>582.73</td>\n",
       "      <td>4</td>\n",
       "      <td>3</td>\n",
       "      <td>3</td>\n",
       "      <td>433</td>\n",
       "    </tr>\n",
       "    <tr>\n",
       "      <th>1</th>\n",
       "      <td>12427.0</td>\n",
       "      <td>21</td>\n",
       "      <td>31</td>\n",
       "      <td>825.80</td>\n",
       "      <td>2</td>\n",
       "      <td>3</td>\n",
       "      <td>3</td>\n",
       "      <td>233</td>\n",
       "    </tr>\n",
       "  </tbody>\n",
       "</table>\n",
       "</div>"
      ],
      "text/plain": [
       "   customerid  recency  frequency  monetary  r_quartile  f_quartile  \\\n",
       "0     12426.0      194         30    582.73           4           3   \n",
       "1     12427.0       21         31    825.80           2           3   \n",
       "\n",
       "   m_quartile rfm_segment  \n",
       "0           3         433  \n",
       "1           3         233  "
      ]
     },
     "execution_count": 39,
     "metadata": {},
     "output_type": "execute_result"
    }
   ],
   "source": [
    "rfm_segment.head(2)"
   ]
  },
  {
   "cell_type": "code",
   "execution_count": 40,
   "metadata": {
    "tags": []
   },
   "outputs": [],
   "source": [
    "rfm_segment['rfm_score'] = rfm_segment[['r_quartile','f_quartile','m_quartile']].sum(axis=1)"
   ]
  },
  {
   "cell_type": "code",
   "execution_count": 41,
   "metadata": {
    "tags": []
   },
   "outputs": [
    {
     "data": {
      "text/html": [
       "<div>\n",
       "<style scoped>\n",
       "    .dataframe tbody tr th:only-of-type {\n",
       "        vertical-align: middle;\n",
       "    }\n",
       "\n",
       "    .dataframe tbody tr th {\n",
       "        vertical-align: top;\n",
       "    }\n",
       "\n",
       "    .dataframe thead th {\n",
       "        text-align: right;\n",
       "    }\n",
       "</style>\n",
       "<table border=\"1\" class=\"dataframe\">\n",
       "  <thead>\n",
       "    <tr style=\"text-align: right;\">\n",
       "      <th></th>\n",
       "      <th>customerid</th>\n",
       "      <th>recency</th>\n",
       "      <th>frequency</th>\n",
       "      <th>monetary</th>\n",
       "      <th>r_quartile</th>\n",
       "      <th>f_quartile</th>\n",
       "      <th>m_quartile</th>\n",
       "      <th>rfm_segment</th>\n",
       "      <th>rfm_score</th>\n",
       "    </tr>\n",
       "  </thead>\n",
       "  <tbody>\n",
       "    <tr>\n",
       "      <th>0</th>\n",
       "      <td>12426.0</td>\n",
       "      <td>194</td>\n",
       "      <td>30</td>\n",
       "      <td>582.73</td>\n",
       "      <td>4</td>\n",
       "      <td>3</td>\n",
       "      <td>3</td>\n",
       "      <td>433</td>\n",
       "      <td>10</td>\n",
       "    </tr>\n",
       "    <tr>\n",
       "      <th>1</th>\n",
       "      <td>12427.0</td>\n",
       "      <td>21</td>\n",
       "      <td>31</td>\n",
       "      <td>825.80</td>\n",
       "      <td>2</td>\n",
       "      <td>3</td>\n",
       "      <td>3</td>\n",
       "      <td>233</td>\n",
       "      <td>8</td>\n",
       "    </tr>\n",
       "  </tbody>\n",
       "</table>\n",
       "</div>"
      ],
      "text/plain": [
       "   customerid  recency  frequency  monetary  r_quartile  f_quartile  \\\n",
       "0     12426.0      194         30    582.73           4           3   \n",
       "1     12427.0       21         31    825.80           2           3   \n",
       "\n",
       "   m_quartile rfm_segment  rfm_score  \n",
       "0           3         433         10  \n",
       "1           3         233          8  "
      ]
     },
     "execution_count": 41,
     "metadata": {},
     "output_type": "execute_result"
    }
   ],
   "source": [
    "rfm_segment.head(2)"
   ]
  },
  {
   "cell_type": "code",
   "execution_count": 42,
   "metadata": {
    "tags": []
   },
   "outputs": [
    {
     "name": "stdout",
     "output_type": "stream",
     "text": [
      "Best Customers:  11\n",
      "Loyal Customers:  24\n",
      "Big Spenders:  24\n",
      "Almost Lost:  1\n",
      "Lost Customers:  8\n",
      "Lost Cheap Customers:  7\n"
     ]
    }
   ],
   "source": [
    "print(\"Best Customers: \",len(rfm_segment[rfm_segment['rfm_segment']=='111']))\n",
    "print('Loyal Customers: ',len(rfm_segment[rfm_segment['f_quartile']==1]))\n",
    "print(\"Big Spenders: \",len(rfm_segment[rfm_segment['m_quartile']==1]))\n",
    "print('Almost Lost: ', len(rfm_segment[rfm_segment['rfm_segment']=='134']))\n",
    "print('Lost Customers: ',len(rfm_segment[rfm_segment['rfm_segment']=='344']))\n",
    "print('Lost Cheap Customers: ',len(rfm_segment[rfm_segment['rfm_segment']=='444']))"
   ]
  },
  {
   "cell_type": "code",
   "execution_count": 43,
   "metadata": {
    "tags": []
   },
   "outputs": [
    {
     "data": {
      "text/html": [
       "<div>\n",
       "<style scoped>\n",
       "    .dataframe tbody tr th:only-of-type {\n",
       "        vertical-align: middle;\n",
       "    }\n",
       "\n",
       "    .dataframe tbody tr th {\n",
       "        vertical-align: top;\n",
       "    }\n",
       "\n",
       "    .dataframe thead tr th {\n",
       "        text-align: left;\n",
       "    }\n",
       "\n",
       "    .dataframe thead tr:last-of-type th {\n",
       "        text-align: right;\n",
       "    }\n",
       "</style>\n",
       "<table border=\"1\" class=\"dataframe\">\n",
       "  <thead>\n",
       "    <tr>\n",
       "      <th></th>\n",
       "      <th>recency</th>\n",
       "      <th>frequency</th>\n",
       "      <th colspan=\"2\" halign=\"left\">monetary</th>\n",
       "    </tr>\n",
       "    <tr>\n",
       "      <th></th>\n",
       "      <th>mean</th>\n",
       "      <th>mean</th>\n",
       "      <th>mean</th>\n",
       "      <th>count</th>\n",
       "    </tr>\n",
       "    <tr>\n",
       "      <th>rfm_score</th>\n",
       "      <th></th>\n",
       "      <th></th>\n",
       "      <th></th>\n",
       "      <th></th>\n",
       "    </tr>\n",
       "  </thead>\n",
       "  <tbody>\n",
       "    <tr>\n",
       "      <th>3</th>\n",
       "      <td>7.5</td>\n",
       "      <td>273.5</td>\n",
       "      <td>7587.5</td>\n",
       "      <td>11</td>\n",
       "    </tr>\n",
       "    <tr>\n",
       "      <th>4</th>\n",
       "      <td>21.6</td>\n",
       "      <td>238.4</td>\n",
       "      <td>6345.6</td>\n",
       "      <td>7</td>\n",
       "    </tr>\n",
       "    <tr>\n",
       "      <th>5</th>\n",
       "      <td>21.8</td>\n",
       "      <td>149.6</td>\n",
       "      <td>3186.0</td>\n",
       "      <td>12</td>\n",
       "    </tr>\n",
       "    <tr>\n",
       "      <th>6</th>\n",
       "      <td>38.3</td>\n",
       "      <td>92.0</td>\n",
       "      <td>2084.6</td>\n",
       "      <td>3</td>\n",
       "    </tr>\n",
       "    <tr>\n",
       "      <th>7</th>\n",
       "      <td>70.5</td>\n",
       "      <td>66.7</td>\n",
       "      <td>1880.8</td>\n",
       "      <td>15</td>\n",
       "    </tr>\n",
       "    <tr>\n",
       "      <th>8</th>\n",
       "      <td>84.6</td>\n",
       "      <td>51.2</td>\n",
       "      <td>1189.8</td>\n",
       "      <td>10</td>\n",
       "    </tr>\n",
       "    <tr>\n",
       "      <th>9</th>\n",
       "      <td>39.7</td>\n",
       "      <td>28.2</td>\n",
       "      <td>551.2</td>\n",
       "      <td>6</td>\n",
       "    </tr>\n",
       "    <tr>\n",
       "      <th>10</th>\n",
       "      <td>105.4</td>\n",
       "      <td>25.5</td>\n",
       "      <td>620.0</td>\n",
       "      <td>11</td>\n",
       "    </tr>\n",
       "    <tr>\n",
       "      <th>11</th>\n",
       "      <td>116.8</td>\n",
       "      <td>19.2</td>\n",
       "      <td>390.5</td>\n",
       "      <td>12</td>\n",
       "    </tr>\n",
       "    <tr>\n",
       "      <th>12</th>\n",
       "      <td>276.7</td>\n",
       "      <td>14.3</td>\n",
       "      <td>225.2</td>\n",
       "      <td>7</td>\n",
       "    </tr>\n",
       "  </tbody>\n",
       "</table>\n",
       "</div>"
      ],
      "text/plain": [
       "          recency frequency monetary      \n",
       "             mean      mean     mean count\n",
       "rfm_score                                 \n",
       "3             7.5     273.5   7587.5    11\n",
       "4            21.6     238.4   6345.6     7\n",
       "5            21.8     149.6   3186.0    12\n",
       "6            38.3      92.0   2084.6     3\n",
       "7            70.5      66.7   1880.8    15\n",
       "8            84.6      51.2   1189.8    10\n",
       "9            39.7      28.2    551.2     6\n",
       "10          105.4      25.5    620.0    11\n",
       "11          116.8      19.2    390.5    12\n",
       "12          276.7      14.3    225.2     7"
      ]
     },
     "execution_count": 43,
     "metadata": {},
     "output_type": "execute_result"
    }
   ],
   "source": [
    "rfm_segment.groupby('rfm_score').agg({\n",
    "    'recency': 'mean',\n",
    "    'frequency': 'mean',\n",
    "    'monetary': ['mean', 'count'] }).round(1)"
   ]
  },
  {
   "cell_type": "code",
   "execution_count": null,
   "metadata": {
    "jupyter": {
     "source_hidden": true
    },
    "tags": []
   },
   "outputs": [],
   "source": []
  },
  {
   "cell_type": "markdown",
   "metadata": {
    "id": "sjgXhrtNAGTe"
   },
   "source": [
    "# Applying K means"
   ]
  },
  {
   "cell_type": "markdown",
   "metadata": {
    "id": "8V1mJ79aAGWp"
   },
   "source": [
    "K means works well under the following conditions :\n",
    "\n",
    "-- data distribution is not skewed \n",
    "-- data is standardised (mean of 0 and std deviation 1)\n"
   ]
  },
  {
   "cell_type": "code",
   "execution_count": 44,
   "metadata": {
    "id": "gvW5F8fQAGaU",
    "tags": []
   },
   "outputs": [],
   "source": [
    "# plotting graphs to check the skewness of the data \n",
    "from scipy import stats\n",
    "\n",
    "def check_skew(df_skew, col):\n",
    "    skew = stats.skew(df_skew[col])\n",
    "    skew_test = stats.skewtest(df_skew[col])\n",
    "    plt.title('Distribution of ' + col)\n",
    "    sns.histplot(df_skew[col], kde = True)\n",
    "    print(\"{}'s: Skew: {}, : {}\".format(col, skew, skew_test))\n",
    "    return\n",
    "    "
   ]
  },
  {
   "cell_type": "code",
   "execution_count": 45,
   "metadata": {
    "id": "WXopM4GHAGdy",
    "tags": []
   },
   "outputs": [
    {
     "name": "stdout",
     "output_type": "stream",
     "text": [
      "recency's: Skew: 1.5515392903077998, : SkewtestResult(statistic=5.018097715406784, pvalue=5.218563356430111e-07)\n",
      "frequency's: Skew: 1.7499156349143163, : SkewtestResult(statistic=5.424016438946666, pvalue=5.827451903238251e-08)\n",
      "monetary's: Skew: 2.766993224013046, : SkewtestResult(statistic=7.053265282963375, pvalue=1.7476719788289796e-12)\n"
     ]
    },
    {
     "data": {
      "image/png": "[encoded data removed]",
      "text/plain": [
       "<Figure size 900x900 with 3 Axes>"
      ]
     },
     "metadata": {},
     "output_type": "display_data"
    }
   ],
   "source": [
    "# Plot all 3 graphs together for summary findings\n",
    "\n",
    "\n",
    "plt.figure(figsize=(9, 9))\n",
    "\n",
    "plt.subplot(3, 1, 1)\n",
    "check_skew(rfm_df,'recency')\n",
    "\n",
    "plt.subplot(3, 1, 2)\n",
    "check_skew(rfm_df,'frequency')\n",
    "\n",
    "plt.subplot(3, 1, 3)\n",
    "check_skew(rfm_df,'monetary')\n",
    "\n",
    "plt.tight_layout()"
   ]
  },
  {
   "cell_type": "markdown",
   "metadata": {
    "id": "RuQmf_t5aYxb"
   },
   "source": [
    "Since the data is highly right skewed, we are going to apply log transformations to reduce the skewness\n",
    "\n"
   ]
  },
  {
   "cell_type": "code",
   "execution_count": 46,
   "metadata": {
    "id": "a3w2JggRaY1F",
    "tags": []
   },
   "outputs": [],
   "source": [
    "rfm_log_df = rfm_df.copy()"
   ]
  },
  {
   "cell_type": "code",
   "execution_count": 47,
   "metadata": {
    "tags": []
   },
   "outputs": [
    {
     "data": {
      "text/html": [
       "<div>\n",
       "<style scoped>\n",
       "    .dataframe tbody tr th:only-of-type {\n",
       "        vertical-align: middle;\n",
       "    }\n",
       "\n",
       "    .dataframe tbody tr th {\n",
       "        vertical-align: top;\n",
       "    }\n",
       "\n",
       "    .dataframe thead th {\n",
       "        text-align: right;\n",
       "    }\n",
       "</style>\n",
       "<table border=\"1\" class=\"dataframe\">\n",
       "  <thead>\n",
       "    <tr style=\"text-align: right;\">\n",
       "      <th></th>\n",
       "      <th>customerid</th>\n",
       "      <th>recency</th>\n",
       "      <th>frequency</th>\n",
       "      <th>monetary</th>\n",
       "    </tr>\n",
       "  </thead>\n",
       "  <tbody>\n",
       "    <tr>\n",
       "      <th>0</th>\n",
       "      <td>12426.0</td>\n",
       "      <td>194</td>\n",
       "      <td>30</td>\n",
       "      <td>582.73</td>\n",
       "    </tr>\n",
       "    <tr>\n",
       "      <th>1</th>\n",
       "      <td>12427.0</td>\n",
       "      <td>21</td>\n",
       "      <td>31</td>\n",
       "      <td>825.80</td>\n",
       "    </tr>\n",
       "  </tbody>\n",
       "</table>\n",
       "</div>"
      ],
      "text/plain": [
       "   customerid  recency  frequency  monetary\n",
       "0     12426.0      194         30    582.73\n",
       "1     12427.0       21         31    825.80"
      ]
     },
     "execution_count": 47,
     "metadata": {},
     "output_type": "execute_result"
    }
   ],
   "source": [
    "rfm_log_df.head(2)"
   ]
  },
  {
   "cell_type": "code",
   "execution_count": 48,
   "metadata": {
    "tags": []
   },
   "outputs": [
    {
     "data": {
      "text/plain": [
       "customerid    False\n",
       "recency       False\n",
       "frequency     False\n",
       "monetary      False\n",
       "dtype: bool"
      ]
     },
     "execution_count": 48,
     "metadata": {},
     "output_type": "execute_result"
    }
   ],
   "source": [
    "rfm_log_df.isnull().any()"
   ]
  },
  {
   "cell_type": "code",
   "execution_count": 49,
   "metadata": {
    "tags": []
   },
   "outputs": [
    {
     "name": "stdout",
     "output_type": "stream",
     "text": [
      "recency's: Skew: -0.5657334070642546, : SkewtestResult(statistic=-2.2598564705522692, pvalue=0.023830160274177337)\n",
      "frequency's: Skew: 0.03412095411415033, : SkewtestResult(statistic=0.14419738301806456, pvalue=0.8853446073988928)\n",
      "monetary's: Skew: 0.10694069008323207, : SkewtestResult(statistic=0.45101515917889456, pvalue=0.6519786233588798)\n"
     ]
    },
    {
     "data": {
      "image/png": "[encoded data removed]",
      "text/plain": [
       "<Figure size 900x900 with 3 Axes>"
      ]
     },
     "metadata": {},
     "output_type": "display_data"
    }
   ],
   "source": [
    "columns_to_log_transform = ['recency','frequency','monetary']\n",
    "\n",
    "rfm_log_df[columns_to_log_transform] = np.log(rfm_log_df[columns_to_log_transform]+1)\n",
    "\n",
    "#df_rfm_log = np.log(df_rfm_log+1)\n",
    "\n",
    "plt.figure(figsize=(9, 9))\n",
    "\n",
    "plt.subplot(3, 1, 1)\n",
    "check_skew(rfm_log_df,'recency')\n",
    "\n",
    "plt.subplot(3, 1, 2)\n",
    "check_skew(rfm_log_df,'frequency')\n",
    "plt.subplot(3, 1, 3)\n",
    "check_skew(rfm_log_df,'monetary')\n",
    "\n",
    "plt.tight_layout()"
   ]
  },
  {
   "cell_type": "code",
   "execution_count": 50,
   "metadata": {
    "tags": []
   },
   "outputs": [
    {
     "data": {
      "text/html": [
       "<div>\n",
       "<style scoped>\n",
       "    .dataframe tbody tr th:only-of-type {\n",
       "        vertical-align: middle;\n",
       "    }\n",
       "\n",
       "    .dataframe tbody tr th {\n",
       "        vertical-align: top;\n",
       "    }\n",
       "\n",
       "    .dataframe thead th {\n",
       "        text-align: right;\n",
       "    }\n",
       "</style>\n",
       "<table border=\"1\" class=\"dataframe\">\n",
       "  <thead>\n",
       "    <tr style=\"text-align: right;\">\n",
       "      <th></th>\n",
       "      <th>customerid</th>\n",
       "      <th>recency</th>\n",
       "      <th>frequency</th>\n",
       "      <th>monetary</th>\n",
       "    </tr>\n",
       "  </thead>\n",
       "  <tbody>\n",
       "    <tr>\n",
       "      <th>0</th>\n",
       "      <td>12426.0</td>\n",
       "      <td>5.273000</td>\n",
       "      <td>3.433987</td>\n",
       "      <td>6.369439</td>\n",
       "    </tr>\n",
       "    <tr>\n",
       "      <th>1</th>\n",
       "      <td>12427.0</td>\n",
       "      <td>3.091042</td>\n",
       "      <td>3.465736</td>\n",
       "      <td>6.717563</td>\n",
       "    </tr>\n",
       "  </tbody>\n",
       "</table>\n",
       "</div>"
      ],
      "text/plain": [
       "   customerid   recency  frequency  monetary\n",
       "0     12426.0  5.273000   3.433987  6.369439\n",
       "1     12427.0  3.091042   3.465736  6.717563"
      ]
     },
     "execution_count": 50,
     "metadata": {},
     "output_type": "execute_result"
    }
   ],
   "source": [
    "rfm_log_df.head(2)"
   ]
  },
  {
   "cell_type": "code",
   "execution_count": 51,
   "metadata": {
    "tags": []
   },
   "outputs": [
    {
     "data": {
      "text/html": [
       "<style>#sk-container-id-1 {color: black;background-color: white;}#sk-container-id-1 pre{padding: 0;}#sk-container-id-1 div.sk-toggleable {background-color: white;}#sk-container-id-1 label.sk-toggleable__label {cursor: pointer;display: block;width: 100%;margin-bottom: 0;padding: 0.3em;box-sizing: border-box;text-align: center;}#sk-container-id-1 label.sk-toggleable__label-arrow:before {content: \"▸\";float: left;margin-right: 0.25em;color: #696969;}#sk-container-id-1 label.sk-toggleable__label-arrow:hover:before {color: black;}#sk-container-id-1 div.sk-estimator:hover label.sk-toggleable__label-arrow:before {color: black;}#sk-container-id-1 div.sk-toggleable__content {max-height: 0;max-width: 0;overflow: hidden;text-align: left;background-color: #f0f8ff;}#sk-container-id-1 div.sk-toggleable__content pre {margin: 0.2em;color: black;border-radius: 0.25em;background-color: #f0f8ff;}#sk-container-id-1 input.sk-toggleable__control:checked~div.sk-toggleable__content {max-height: 200px;max-width: 100%;overflow: auto;}#sk-container-id-1 input.sk-toggleable__control:checked~label.sk-toggleable__label-arrow:before {content: \"▾\";}#sk-container-id-1 div.sk-estimator input.sk-toggleable__control:checked~label.sk-toggleable__label {background-color: #d4ebff;}#sk-container-id-1 div.sk-label input.sk-toggleable__control:checked~label.sk-toggleable__label {background-color: #d4ebff;}#sk-container-id-1 input.sk-hidden--visually {border: 0;clip: rect(1px 1px 1px 1px);clip: rect(1px, 1px, 1px, 1px);height: 1px;margin: -1px;overflow: hidden;padding: 0;position: absolute;width: 1px;}#sk-container-id-1 div.sk-estimator {font-family: monospace;background-color: #f0f8ff;border: 1px dotted black;border-radius: 0.25em;box-sizing: border-box;margin-bottom: 0.5em;}#sk-container-id-1 div.sk-estimator:hover {background-color: #d4ebff;}#sk-container-id-1 div.sk-parallel-item::after {content: \"\";width: 100%;border-bottom: 1px solid gray;flex-grow: 1;}#sk-container-id-1 div.sk-label:hover label.sk-toggleable__label {background-color: #d4ebff;}#sk-container-id-1 div.sk-serial::before {content: \"\";position: absolute;border-left: 1px solid gray;box-sizing: border-box;top: 0;bottom: 0;left: 50%;z-index: 0;}#sk-container-id-1 div.sk-serial {display: flex;flex-direction: column;align-items: center;background-color: white;padding-right: 0.2em;padding-left: 0.2em;position: relative;}#sk-container-id-1 div.sk-item {position: relative;z-index: 1;}#sk-container-id-1 div.sk-parallel {display: flex;align-items: stretch;justify-content: center;background-color: white;position: relative;}#sk-container-id-1 div.sk-item::before, #sk-container-id-1 div.sk-parallel-item::before {content: \"\";position: absolute;border-left: 1px solid gray;box-sizing: border-box;top: 0;bottom: 0;left: 50%;z-index: -1;}#sk-container-id-1 div.sk-parallel-item {display: flex;flex-direction: column;z-index: 1;position: relative;background-color: white;}#sk-container-id-1 div.sk-parallel-item:first-child::after {align-self: flex-end;width: 50%;}#sk-container-id-1 div.sk-parallel-item:last-child::after {align-self: flex-start;width: 50%;}#sk-container-id-1 div.sk-parallel-item:only-child::after {width: 0;}#sk-container-id-1 div.sk-dashed-wrapped {border: 1px dashed gray;margin: 0 0.4em 0.5em 0.4em;box-sizing: border-box;padding-bottom: 0.4em;background-color: white;}#sk-container-id-1 div.sk-label label {font-family: monospace;font-weight: bold;display: inline-block;line-height: 1.2em;}#sk-container-id-1 div.sk-label-container {text-align: center;}#sk-container-id-1 div.sk-container {/* jupyter's `normalize.less` sets `[hidden] { display: none; }` but bootstrap.min.css set `[hidden] { display: none !important; }` so we also need the `!important` here to be able to override the default hidden behavior on the sphinx rendered scikit-learn.org. See: https://github.com/scikit-learn/scikit-learn/issues/21755 */display: inline-block !important;position: relative;}#sk-container-id-1 div.sk-text-repr-fallback {display: none;}</style><div id=\"sk-container-id-1\" class=\"sk-top-container\"><div class=\"sk-text-repr-fallback\"><pre>Winsorizer(fold=2, tail=&#x27;both&#x27;, variables=[&#x27;recency&#x27;, &#x27;frequency&#x27;, &#x27;monetary&#x27;])</pre><b>In a Jupyter environment, please rerun this cell to show the HTML representation or trust the notebook. <br />On GitHub, the HTML representation is unable to render, please try loading this page with nbviewer.org.</b></div><div class=\"sk-container\" hidden><div class=\"sk-item\"><div class=\"sk-estimator sk-toggleable\"><input class=\"sk-toggleable__control sk-hidden--visually\" id=\"sk-estimator-id-1\" type=\"checkbox\" checked><label for=\"sk-estimator-id-1\" class=\"sk-toggleable__label sk-toggleable__label-arrow\">Winsorizer</label><div class=\"sk-toggleable__content\"><pre>Winsorizer(fold=2, tail=&#x27;both&#x27;, variables=[&#x27;recency&#x27;, &#x27;frequency&#x27;, &#x27;monetary&#x27;])</pre></div></div></div></div></div>"
      ],
      "text/plain": [
       "Winsorizer(fold=2, tail='both', variables=['recency', 'frequency', 'monetary'])"
      ]
     },
     "execution_count": 51,
     "metadata": {},
     "output_type": "execute_result"
    }
   ],
   "source": [
    "from feature_engine.outliers import Winsorizer\n",
    "\n",
    "windsoriser = Winsorizer(tail='both', # cap left, right or both tails \n",
    "                          fold=2,\n",
    "                           variables=[ 'recency', 'frequency', 'monetary']\n",
    "                        )\n",
    "windsoriser.fit(rfm_log_df)"
   ]
  },
  {
   "cell_type": "code",
   "execution_count": 52,
   "metadata": {
    "tags": []
   },
   "outputs": [],
   "source": [
    "rfm_log_df = windsoriser.transform(rfm_log_df)"
   ]
  },
  {
   "cell_type": "code",
   "execution_count": 53,
   "metadata": {
    "tags": []
   },
   "outputs": [
    {
     "data": {
      "text/html": [
       "<div>\n",
       "<style scoped>\n",
       "    .dataframe tbody tr th:only-of-type {\n",
       "        vertical-align: middle;\n",
       "    }\n",
       "\n",
       "    .dataframe tbody tr th {\n",
       "        vertical-align: top;\n",
       "    }\n",
       "\n",
       "    .dataframe thead th {\n",
       "        text-align: right;\n",
       "    }\n",
       "</style>\n",
       "<table border=\"1\" class=\"dataframe\">\n",
       "  <thead>\n",
       "    <tr style=\"text-align: right;\">\n",
       "      <th></th>\n",
       "      <th>customerid</th>\n",
       "      <th>recency</th>\n",
       "      <th>frequency</th>\n",
       "      <th>monetary</th>\n",
       "    </tr>\n",
       "  </thead>\n",
       "  <tbody>\n",
       "    <tr>\n",
       "      <th>0</th>\n",
       "      <td>12426.0</td>\n",
       "      <td>5.273000</td>\n",
       "      <td>3.433987</td>\n",
       "      <td>6.369439</td>\n",
       "    </tr>\n",
       "    <tr>\n",
       "      <th>1</th>\n",
       "      <td>12427.0</td>\n",
       "      <td>3.091042</td>\n",
       "      <td>3.465736</td>\n",
       "      <td>6.717563</td>\n",
       "    </tr>\n",
       "  </tbody>\n",
       "</table>\n",
       "</div>"
      ],
      "text/plain": [
       "   customerid   recency  frequency  monetary\n",
       "0     12426.0  5.273000   3.433987  6.369439\n",
       "1     12427.0  3.091042   3.465736  6.717563"
      ]
     },
     "execution_count": 53,
     "metadata": {},
     "output_type": "execute_result"
    }
   ],
   "source": [
    "rfm_log_df.head(2)"
   ]
  },
  {
   "cell_type": "code",
   "execution_count": 116,
   "metadata": {
    "tags": []
   },
   "outputs": [],
   "source": [
    "from sklearn.preprocessing import StandardScaler\n",
    "\n",
    "columns_to_scale = ['recency','frequency','monetary']\n",
    "\n",
    "scaler = StandardScaler()\n",
    "\n",
    "scaler.fit(rfm_log_df[columns_to_scale])\n",
    "\n",
    "RFM_Table_scaled = scaler.transform(rfm_log_df[columns_to_scale])"
   ]
  },
  {
   "cell_type": "code",
   "execution_count": 117,
   "metadata": {
    "tags": []
   },
   "outputs": [],
   "source": [
    "# Creating a new DataFrame with scaled values and original indices\n",
    "\n",
    "RFM_Table_scaled_df1 = pd.DataFrame(RFM_Table_scaled, columns=columns_to_scale,index=rfm_log_df.index )\n",
    "\n",
    "\n",
    "# # Create a new DataFrame with scaled values and original indices\n",
    "# RFM_Table_scaled = pd.DataFrame(scaled_values, columns=columns_to_scale, index=rfm_log_df.index)\n",
    "\n",
    "# \n",
    "# RFM_Table_scaled = pd.concat([RFM_Table_scaled, rfm_log_df.drop(columns=columns_to_scale)], axis=1)\n",
    "\n",
    "# # Now RFM_Table_scaled will have all four columns\n",
    "# RFM_Table_scaled.head()"
   ]
  },
  {
   "cell_type": "code",
   "execution_count": 118,
   "metadata": {
    "tags": []
   },
   "outputs": [],
   "source": [
    "# Joining the non-scaled columns to the scaled DataFrame\n",
    "\n",
    "RFM_Table_scaled_df1= pd.concat([RFM_Table_scaled_df1, rfm_log_df.drop(columns=columns_to_scale)], axis=1)\n"
   ]
  },
  {
   "cell_type": "code",
   "execution_count": 119,
   "metadata": {
    "tags": []
   },
   "outputs": [
    {
     "data": {
      "text/html": [
       "<div>\n",
       "<style scoped>\n",
       "    .dataframe tbody tr th:only-of-type {\n",
       "        vertical-align: middle;\n",
       "    }\n",
       "\n",
       "    .dataframe tbody tr th {\n",
       "        vertical-align: top;\n",
       "    }\n",
       "\n",
       "    .dataframe thead th {\n",
       "        text-align: right;\n",
       "    }\n",
       "</style>\n",
       "<table border=\"1\" class=\"dataframe\">\n",
       "  <thead>\n",
       "    <tr style=\"text-align: right;\">\n",
       "      <th></th>\n",
       "      <th>recency</th>\n",
       "      <th>frequency</th>\n",
       "      <th>monetary</th>\n",
       "      <th>customerid</th>\n",
       "    </tr>\n",
       "  </thead>\n",
       "  <tbody>\n",
       "    <tr>\n",
       "      <th>0</th>\n",
       "      <td>1.231203</td>\n",
       "      <td>-0.579543</td>\n",
       "      <td>-0.629393</td>\n",
       "      <td>12426.0</td>\n",
       "    </tr>\n",
       "    <tr>\n",
       "      <th>1</th>\n",
       "      <td>-0.395796</td>\n",
       "      <td>-0.549273</td>\n",
       "      <td>-0.333007</td>\n",
       "      <td>12427.0</td>\n",
       "    </tr>\n",
       "  </tbody>\n",
       "</table>\n",
       "</div>"
      ],
      "text/plain": [
       "    recency  frequency  monetary  customerid\n",
       "0  1.231203  -0.579543 -0.629393     12426.0\n",
       "1 -0.395796  -0.549273 -0.333007     12427.0"
      ]
     },
     "execution_count": 119,
     "metadata": {},
     "output_type": "execute_result"
    }
   ],
   "source": [
    "RFM_Table_scaled_df1.head(2)"
   ]
  },
  {
   "cell_type": "code",
   "execution_count": 60,
   "metadata": {
    "tags": []
   },
   "outputs": [],
   "source": [
    "import warnings\n",
    "warnings.filterwarnings('ignore')\n",
    "from sklearn.cluster import KMeans\n",
    "import math\n",
    "from sklearn.metrics import silhouette_score"
   ]
  },
  {
   "cell_type": "code",
   "execution_count": 120,
   "metadata": {
    "tags": []
   },
   "outputs": [],
   "source": [
    "#Finding the optimal K with Elbow Method and Silhouette score\n",
    "\n",
    "Sum_of_squared_distances = []\n",
    "silhouette_avg = []\n",
    "\n",
    "K = range(1,10)\n",
    "for k in K:\n",
    "    model = KMeans(n_clusters=k, random_state=0)\n",
    "    model.fit(RFM_Table_scaled_df1)\n",
    "    Sum_of_squared_distances.append(model.inertia_)\n",
    "\n",
    "    if k>1:\n",
    "        silhouette_avg.append(silhouette_score(RFM_Table_scaled_df1, model.labels_ ,metric='euclidean'))\n",
    "\n",
    "    else:\n",
    "        pass"
   ]
  },
  {
   "cell_type": "markdown",
   "metadata": {
    "tags": []
   },
   "source": [
    "# Finding the optimal number of clusters"
   ]
  },
  {
   "cell_type": "code",
   "execution_count": 87,
   "metadata": {
    "colab": {
     "base_uri": "https://localhost:8080/",
     "height": 333
    },
    "id": "LjfqM0pcHFFg",
    "outputId": "3d008660-3058-4a0f-845f-c8f1a9308a2a",
    "tags": []
   },
   "outputs": [
    {
     "data": {
      "image/png": "[encoded data removed]",
      "text/plain": [
       "<Figure size 500x300 with 1 Axes>"
      ]
     },
     "metadata": {},
     "output_type": "display_data"
    }
   ],
   "source": [
    "plt.figure(figsize=(5,3))\n",
    "plt.plot(K, Sum_of_squared_distances, 'bx-')\n",
    "plt.xlabel('K')\n",
    "plt.ylabel('Sum_of_squared_distances')\n",
    "plt.title('Elbow Method For Optimal k')\n",
    "plt.show()"
   ]
  },
  {
   "cell_type": "code",
   "execution_count": 88,
   "metadata": {
    "colab": {
     "base_uri": "https://localhost:8080/",
     "height": 333
    },
    "id": "f5wnV4OLLH7P",
    "outputId": "f9011d26-1c30-4bfd-92f5-871479267358",
    "tags": []
   },
   "outputs": [
    {
     "data": {
      "image/png": "[encoded data removed]",
      "text/plain": [
       "<Figure size 500x300 with 1 Axes>"
      ]
     },
     "metadata": {},
     "output_type": "display_data"
    }
   ],
   "source": [
    "#Silhouette scores\n",
    "\n",
    "plt.figure(figsize=(5,3))\n",
    "plt.plot(K[1:],silhouette_avg,'bx-')\n",
    "plt.xlabel('Values of K')\n",
    "plt.ylabel('Silhouette score')\n",
    "plt.title('Silhouette analysis For Optimal k')\n",
    "plt.show()\n"
   ]
  },
  {
   "cell_type": "code",
   "execution_count": 139,
   "metadata": {
    "id": "EFwQ45scMJit",
    "tags": []
   },
   "outputs": [
    {
     "data": {
      "text/html": [
       "<style>#sk-container-id-8 {color: black;background-color: white;}#sk-container-id-8 pre{padding: 0;}#sk-container-id-8 div.sk-toggleable {background-color: white;}#sk-container-id-8 label.sk-toggleable__label {cursor: pointer;display: block;width: 100%;margin-bottom: 0;padding: 0.3em;box-sizing: border-box;text-align: center;}#sk-container-id-8 label.sk-toggleable__label-arrow:before {content: \"▸\";float: left;margin-right: 0.25em;color: #696969;}#sk-container-id-8 label.sk-toggleable__label-arrow:hover:before {color: black;}#sk-container-id-8 div.sk-estimator:hover label.sk-toggleable__label-arrow:before {color: black;}#sk-container-id-8 div.sk-toggleable__content {max-height: 0;max-width: 0;overflow: hidden;text-align: left;background-color: #f0f8ff;}#sk-container-id-8 div.sk-toggleable__content pre {margin: 0.2em;color: black;border-radius: 0.25em;background-color: #f0f8ff;}#sk-container-id-8 input.sk-toggleable__control:checked~div.sk-toggleable__content {max-height: 200px;max-width: 100%;overflow: auto;}#sk-container-id-8 input.sk-toggleable__control:checked~label.sk-toggleable__label-arrow:before {content: \"▾\";}#sk-container-id-8 div.sk-estimator input.sk-toggleable__control:checked~label.sk-toggleable__label {background-color: #d4ebff;}#sk-container-id-8 div.sk-label input.sk-toggleable__control:checked~label.sk-toggleable__label {background-color: #d4ebff;}#sk-container-id-8 input.sk-hidden--visually {border: 0;clip: rect(1px 1px 1px 1px);clip: rect(1px, 1px, 1px, 1px);height: 1px;margin: -1px;overflow: hidden;padding: 0;position: absolute;width: 1px;}#sk-container-id-8 div.sk-estimator {font-family: monospace;background-color: #f0f8ff;border: 1px dotted black;border-radius: 0.25em;box-sizing: border-box;margin-bottom: 0.5em;}#sk-container-id-8 div.sk-estimator:hover {background-color: #d4ebff;}#sk-container-id-8 div.sk-parallel-item::after {content: \"\";width: 100%;border-bottom: 1px solid gray;flex-grow: 1;}#sk-container-id-8 div.sk-label:hover label.sk-toggleable__label {background-color: #d4ebff;}#sk-container-id-8 div.sk-serial::before {content: \"\";position: absolute;border-left: 1px solid gray;box-sizing: border-box;top: 0;bottom: 0;left: 50%;z-index: 0;}#sk-container-id-8 div.sk-serial {display: flex;flex-direction: column;align-items: center;background-color: white;padding-right: 0.2em;padding-left: 0.2em;position: relative;}#sk-container-id-8 div.sk-item {position: relative;z-index: 1;}#sk-container-id-8 div.sk-parallel {display: flex;align-items: stretch;justify-content: center;background-color: white;position: relative;}#sk-container-id-8 div.sk-item::before, #sk-container-id-8 div.sk-parallel-item::before {content: \"\";position: absolute;border-left: 1px solid gray;box-sizing: border-box;top: 0;bottom: 0;left: 50%;z-index: -1;}#sk-container-id-8 div.sk-parallel-item {display: flex;flex-direction: column;z-index: 1;position: relative;background-color: white;}#sk-container-id-8 div.sk-parallel-item:first-child::after {align-self: flex-end;width: 50%;}#sk-container-id-8 div.sk-parallel-item:last-child::after {align-self: flex-start;width: 50%;}#sk-container-id-8 div.sk-parallel-item:only-child::after {width: 0;}#sk-container-id-8 div.sk-dashed-wrapped {border: 1px dashed gray;margin: 0 0.4em 0.5em 0.4em;box-sizing: border-box;padding-bottom: 0.4em;background-color: white;}#sk-container-id-8 div.sk-label label {font-family: monospace;font-weight: bold;display: inline-block;line-height: 1.2em;}#sk-container-id-8 div.sk-label-container {text-align: center;}#sk-container-id-8 div.sk-container {/* jupyter's `normalize.less` sets `[hidden] { display: none; }` but bootstrap.min.css set `[hidden] { display: none !important; }` so we also need the `!important` here to be able to override the default hidden behavior on the sphinx rendered scikit-learn.org. See: https://github.com/scikit-learn/scikit-learn/issues/21755 */display: inline-block !important;position: relative;}#sk-container-id-8 div.sk-text-repr-fallback {display: none;}</style><div id=\"sk-container-id-8\" class=\"sk-top-container\"><div class=\"sk-text-repr-fallback\"><pre>KMeans(n_clusters=4, random_state=0)</pre><b>In a Jupyter environment, please rerun this cell to show the HTML representation or trust the notebook. <br />On GitHub, the HTML representation is unable to render, please try loading this page with nbviewer.org.</b></div><div class=\"sk-container\" hidden><div class=\"sk-item\"><div class=\"sk-estimator sk-toggleable\"><input class=\"sk-toggleable__control sk-hidden--visually\" id=\"sk-estimator-id-8\" type=\"checkbox\" checked><label for=\"sk-estimator-id-8\" class=\"sk-toggleable__label sk-toggleable__label-arrow\">KMeans</label><div class=\"sk-toggleable__content\"><pre>KMeans(n_clusters=4, random_state=0)</pre></div></div></div></div></div>"
      ],
      "text/plain": [
       "KMeans(n_clusters=4, random_state=0)"
      ]
     },
     "execution_count": 139,
     "metadata": {},
     "output_type": "execute_result"
    }
   ],
   "source": [
    "#lets take k =4 \n",
    "\n",
    "final_model = KMeans(n_clusters=4, random_state=0)\n",
    "final_model.fit(RFM_Table_scaled_df1)"
   ]
  },
  {
   "cell_type": "code",
   "execution_count": 140,
   "metadata": {
    "id": "mS2HCXD7SNtl"
   },
   "outputs": [],
   "source": [
    "# df_segm_kmeans= RFM_Table_scaled.copy()\n",
    "df_scaled_data= RFM_Table_scaled_df1.copy()\n",
    "RFM_Table_scaled_df1['labels'] = final_model.labels_"
   ]
  },
  {
   "cell_type": "code",
   "execution_count": 141,
   "metadata": {
    "tags": []
   },
   "outputs": [
    {
     "data": {
      "text/plain": [
       "<bound method NDFrame.head of      recency  frequency  monetary  customerid  labels\n",
       "0   1.231203  -0.579543 -0.629393     12426.0       2\n",
       "1  -0.395796  -0.549273 -0.333007     12427.0       2\n",
       "2   1.203944  -0.360661 -0.438390     12468.0       2\n",
       "3  -1.881473   1.994145  2.037692     12471.0       2\n",
       "4  -0.093457   1.703872  1.432058     12472.0       2\n",
       "..       ...        ...       ...         ...     ...\n",
       "89  0.679116   0.017736  0.218427     13814.0       1\n",
       "90 -0.362650   1.081480  1.015199     13815.0       1\n",
       "91 -0.330915  -0.643128 -0.645679     13816.0       1\n",
       "92 -0.164526  -0.784636 -0.985992     13817.0       1\n",
       "93 -0.588049   0.111591 -0.815234     14335.0       3\n",
       "\n",
       "[94 rows x 5 columns]>"
      ]
     },
     "execution_count": 141,
     "metadata": {},
     "output_type": "execute_result"
    }
   ],
   "source": [
    "RFM_Table_scaled_df1.head"
   ]
  },
  {
   "cell_type": "code",
   "execution_count": 142,
   "metadata": {
    "tags": []
   },
   "outputs": [],
   "source": [
    "df_with_labels = RFM_Table_scaled_df1.copy()"
   ]
  },
  {
   "cell_type": "code",
   "execution_count": 143,
   "metadata": {
    "tags": []
   },
   "outputs": [
    {
     "data": {
      "text/plain": [
       "(94, 5)"
      ]
     },
     "execution_count": 143,
     "metadata": {},
     "output_type": "execute_result"
    }
   ],
   "source": [
    "df_with_labels.shape"
   ]
  },
  {
   "cell_type": "code",
   "execution_count": 144,
   "metadata": {
    "tags": []
   },
   "outputs": [
    {
     "data": {
      "text/plain": [
       "(94, 5)"
      ]
     },
     "execution_count": 144,
     "metadata": {},
     "output_type": "execute_result"
    }
   ],
   "source": [
    "RFM_Table_scaled_df1.shape"
   ]
  },
  {
   "cell_type": "code",
   "execution_count": 145,
   "metadata": {
    "tags": []
   },
   "outputs": [
    {
     "data": {
      "text/html": [
       "<div>\n",
       "<style scoped>\n",
       "    .dataframe tbody tr th:only-of-type {\n",
       "        vertical-align: middle;\n",
       "    }\n",
       "\n",
       "    .dataframe tbody tr th {\n",
       "        vertical-align: top;\n",
       "    }\n",
       "\n",
       "    .dataframe thead th {\n",
       "        text-align: right;\n",
       "    }\n",
       "</style>\n",
       "<table border=\"1\" class=\"dataframe\">\n",
       "  <thead>\n",
       "    <tr style=\"text-align: right;\">\n",
       "      <th></th>\n",
       "      <th>recency</th>\n",
       "      <th>frequency</th>\n",
       "      <th>monetary</th>\n",
       "      <th>customerid</th>\n",
       "      <th>labels</th>\n",
       "    </tr>\n",
       "  </thead>\n",
       "  <tbody>\n",
       "    <tr>\n",
       "      <th>0</th>\n",
       "      <td>5.273000</td>\n",
       "      <td>3.433987</td>\n",
       "      <td>6.369439</td>\n",
       "      <td>12426.0</td>\n",
       "      <td>2</td>\n",
       "    </tr>\n",
       "    <tr>\n",
       "      <th>1</th>\n",
       "      <td>3.091042</td>\n",
       "      <td>3.465736</td>\n",
       "      <td>6.717563</td>\n",
       "      <td>12427.0</td>\n",
       "      <td>2</td>\n",
       "    </tr>\n",
       "  </tbody>\n",
       "</table>\n",
       "</div>"
      ],
      "text/plain": [
       "    recency  frequency  monetary  customerid  labels\n",
       "0  5.273000   3.433987  6.369439     12426.0       2\n",
       "1  3.091042   3.465736  6.717563     12427.0       2"
      ]
     },
     "execution_count": 145,
     "metadata": {},
     "output_type": "execute_result"
    }
   ],
   "source": [
    "# inverse scaling \n",
    "\n",
    "df_with_labels[columns_to_scale] = scaler.inverse_transform(df_with_labels[columns_to_scale])\n",
    "\n",
    "df_with_labels.head(2)"
   ]
  },
  {
   "cell_type": "code",
   "execution_count": 146,
   "metadata": {
    "tags": []
   },
   "outputs": [],
   "source": [
    "#inverse log\n",
    "df_with_labels[['recency', 'frequency', 'monetary']] = df_with_labels[['recency', 'frequency', 'monetary']].apply(lambda x: x - 1)"
   ]
  },
  {
   "cell_type": "code",
   "execution_count": 147,
   "metadata": {
    "tags": []
   },
   "outputs": [],
   "source": [
    "df_with_labels[['recency', 'frequency', 'monetary']] = df_with_labels[['recency', 'frequency', 'monetary']].apply(lambda x: np.exp(x))"
   ]
  },
  {
   "cell_type": "code",
   "execution_count": 148,
   "metadata": {
    "tags": []
   },
   "outputs": [
    {
     "data": {
      "text/html": [
       "<div>\n",
       "<style scoped>\n",
       "    .dataframe tbody tr th:only-of-type {\n",
       "        vertical-align: middle;\n",
       "    }\n",
       "\n",
       "    .dataframe tbody tr th {\n",
       "        vertical-align: top;\n",
       "    }\n",
       "\n",
       "    .dataframe thead th {\n",
       "        text-align: right;\n",
       "    }\n",
       "</style>\n",
       "<table border=\"1\" class=\"dataframe\">\n",
       "  <thead>\n",
       "    <tr style=\"text-align: right;\">\n",
       "      <th></th>\n",
       "      <th>recency</th>\n",
       "      <th>frequency</th>\n",
       "      <th>monetary</th>\n",
       "      <th>customerid</th>\n",
       "      <th>labels</th>\n",
       "    </tr>\n",
       "  </thead>\n",
       "  <tbody>\n",
       "    <tr>\n",
       "      <th>0</th>\n",
       "      <td>71.736491</td>\n",
       "      <td>11.404263</td>\n",
       "      <td>214.742266</td>\n",
       "      <td>12426.0</td>\n",
       "      <td>2</td>\n",
       "    </tr>\n",
       "    <tr>\n",
       "      <th>1</th>\n",
       "      <td>8.093348</td>\n",
       "      <td>11.772142</td>\n",
       "      <td>304.162722</td>\n",
       "      <td>12427.0</td>\n",
       "      <td>2</td>\n",
       "    </tr>\n",
       "    <tr>\n",
       "      <th>2</th>\n",
       "      <td>69.161335</td>\n",
       "      <td>14.347298</td>\n",
       "      <td>268.750647</td>\n",
       "      <td>12468.0</td>\n",
       "      <td>2</td>\n",
       "    </tr>\n",
       "    <tr>\n",
       "      <th>3</th>\n",
       "      <td>1.103638</td>\n",
       "      <td>169.592422</td>\n",
       "      <td>4925.086144</td>\n",
       "      <td>12471.0</td>\n",
       "      <td>2</td>\n",
       "    </tr>\n",
       "    <tr>\n",
       "      <th>4</th>\n",
       "      <td>12.140022</td>\n",
       "      <td>125.079010</td>\n",
       "      <td>2418.112034</td>\n",
       "      <td>12472.0</td>\n",
       "      <td>2</td>\n",
       "    </tr>\n",
       "    <tr>\n",
       "      <th>...</th>\n",
       "      <td>...</td>\n",
       "      <td>...</td>\n",
       "      <td>...</td>\n",
       "      <td>...</td>\n",
       "      <td>...</td>\n",
       "    </tr>\n",
       "    <tr>\n",
       "      <th>89</th>\n",
       "      <td>34.212788</td>\n",
       "      <td>21.337008</td>\n",
       "      <td>581.293663</td>\n",
       "      <td>13814.0</td>\n",
       "      <td>1</td>\n",
       "    </tr>\n",
       "    <tr>\n",
       "      <th>90</th>\n",
       "      <td>8.461227</td>\n",
       "      <td>65.114661</td>\n",
       "      <td>1481.950826</td>\n",
       "      <td>13815.0</td>\n",
       "      <td>1</td>\n",
       "    </tr>\n",
       "    <tr>\n",
       "      <th>91</th>\n",
       "      <td>8.829107</td>\n",
       "      <td>10.668504</td>\n",
       "      <td>210.673520</td>\n",
       "      <td>13816.0</td>\n",
       "      <td>1</td>\n",
       "    </tr>\n",
       "    <tr>\n",
       "      <th>92</th>\n",
       "      <td>11.036383</td>\n",
       "      <td>9.196986</td>\n",
       "      <td>141.258348</td>\n",
       "      <td>13817.0</td>\n",
       "      <td>1</td>\n",
       "    </tr>\n",
       "    <tr>\n",
       "      <th>93</th>\n",
       "      <td>6.253950</td>\n",
       "      <td>23.544284</td>\n",
       "      <td>172.631107</td>\n",
       "      <td>14335.0</td>\n",
       "      <td>3</td>\n",
       "    </tr>\n",
       "  </tbody>\n",
       "</table>\n",
       "<p>94 rows × 5 columns</p>\n",
       "</div>"
      ],
      "text/plain": [
       "      recency   frequency     monetary  customerid  labels\n",
       "0   71.736491   11.404263   214.742266     12426.0       2\n",
       "1    8.093348   11.772142   304.162722     12427.0       2\n",
       "2   69.161335   14.347298   268.750647     12468.0       2\n",
       "3    1.103638  169.592422  4925.086144     12471.0       2\n",
       "4   12.140022  125.079010  2418.112034     12472.0       2\n",
       "..        ...         ...          ...         ...     ...\n",
       "89  34.212788   21.337008   581.293663     13814.0       1\n",
       "90   8.461227   65.114661  1481.950826     13815.0       1\n",
       "91   8.829107   10.668504   210.673520     13816.0       1\n",
       "92  11.036383    9.196986   141.258348     13817.0       1\n",
       "93   6.253950   23.544284   172.631107     14335.0       3\n",
       "\n",
       "[94 rows x 5 columns]"
      ]
     },
     "execution_count": 148,
     "metadata": {},
     "output_type": "execute_result"
    }
   ],
   "source": [
    "df_with_labels.head(100)"
   ]
  },
  {
   "cell_type": "code",
   "execution_count": 149,
   "metadata": {
    "tags": []
   },
   "outputs": [
    {
     "data": {
      "text/html": [
       "<div>\n",
       "<style scoped>\n",
       "    .dataframe tbody tr th:only-of-type {\n",
       "        vertical-align: middle;\n",
       "    }\n",
       "\n",
       "    .dataframe tbody tr th {\n",
       "        vertical-align: top;\n",
       "    }\n",
       "\n",
       "    .dataframe thead th {\n",
       "        text-align: right;\n",
       "    }\n",
       "</style>\n",
       "<table border=\"1\" class=\"dataframe\">\n",
       "  <thead>\n",
       "    <tr style=\"text-align: right;\">\n",
       "      <th></th>\n",
       "      <th>recency</th>\n",
       "      <th>frequency</th>\n",
       "      <th>monetary</th>\n",
       "      <th>customerid</th>\n",
       "    </tr>\n",
       "    <tr>\n",
       "      <th>labels</th>\n",
       "      <th></th>\n",
       "      <th></th>\n",
       "      <th></th>\n",
       "      <th></th>\n",
       "    </tr>\n",
       "  </thead>\n",
       "  <tbody>\n",
       "    <tr>\n",
       "      <th>0</th>\n",
       "      <td>33.631991</td>\n",
       "      <td>34.558105</td>\n",
       "      <td>877.667548</td>\n",
       "      <td>12648.000000</td>\n",
       "    </tr>\n",
       "    <tr>\n",
       "      <th>1</th>\n",
       "      <td>21.428977</td>\n",
       "      <td>20.509279</td>\n",
       "      <td>496.108419</td>\n",
       "      <td>13813.500000</td>\n",
       "    </tr>\n",
       "    <tr>\n",
       "      <th>2</th>\n",
       "      <td>25.084200</td>\n",
       "      <td>40.655395</td>\n",
       "      <td>955.223703</td>\n",
       "      <td>12507.461538</td>\n",
       "    </tr>\n",
       "    <tr>\n",
       "      <th>3</th>\n",
       "      <td>6.253950</td>\n",
       "      <td>23.544284</td>\n",
       "      <td>172.631107</td>\n",
       "      <td>14335.000000</td>\n",
       "    </tr>\n",
       "  </tbody>\n",
       "</table>\n",
       "</div>"
      ],
      "text/plain": [
       "          recency  frequency    monetary    customerid\n",
       "labels                                                \n",
       "0       33.631991  34.558105  877.667548  12648.000000\n",
       "1       21.428977  20.509279  496.108419  13813.500000\n",
       "2       25.084200  40.655395  955.223703  12507.461538\n",
       "3        6.253950  23.544284  172.631107  14335.000000"
      ]
     },
     "execution_count": 149,
     "metadata": {},
     "output_type": "execute_result"
    }
   ],
   "source": [
    "cluster_analysis= df_with_labels.groupby(['labels']).mean()\n",
    "cluster_analysis"
   ]
  },
  {
   "cell_type": "code",
   "execution_count": null,
   "metadata": {},
   "outputs": [],
   "source": []
  },
  {
   "cell_type": "code",
   "execution_count": null,
   "metadata": {},
   "outputs": [],
   "source": []
  },
  {
   "cell_type": "code",
   "execution_count": null,
   "metadata": {},
   "outputs": [],
   "source": []
  },
  {
   "cell_type": "code",
   "execution_count": null,
   "metadata": {},
   "outputs": [],
   "source": []
  },
  {
   "cell_type": "code",
   "execution_count": null,
   "metadata": {
    "id": "EADWVMIsffmh"
   },
   "outputs": [],
   "source": []
  },
  {
   "cell_type": "code",
   "execution_count": null,
   "metadata": {
    "id": "1EK4-4FQNziN"
   },
   "outputs": [],
   "source": [
    "\n",
    "\n"
   ]
  },
  {
   "cell_type": "code",
   "execution_count": null,
   "metadata": {
    "id": "x6v0XIutSB0_"
   },
   "outputs": [],
   "source": [
    "\n",
    "\n"
   ]
  },
  {
   "cell_type": "code",
   "execution_count": null,
   "metadata": {
    "id": "hfiis_ONSd-o"
   },
   "outputs": [],
   "source": []
  }
 ],
 "metadata": {
  "colab": {
   "provenance": []
  },
  "kernelspec": {
   "display_name": "Python 3 (ipykernel)",
   "language": "python",
   "name": "python3"
  },
  "language_info": {
   "codemirror_mode": {
    "name": "ipython",
    "version": 3
   },
   "file_extension": ".py",
   "mimetype": "text/x-python",
   "name": "python",
   "nbconvert_exporter": "python",
   "pygments_lexer": "ipython3",
   "version": "3.11.3"
  }
 },
 "nbformat": 4,
 "nbformat_minor": 4
}
